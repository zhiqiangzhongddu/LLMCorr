{
 "cells": [
  {
   "cell_type": "code",
   "execution_count": 1,
   "id": "initial_id",
   "metadata": {
    "collapsed": true,
    "ExecuteTime": {
     "end_time": "2024-01-05T19:11:24.629261Z",
     "start_time": "2024-01-05T19:11:22.473139Z"
    }
   },
   "outputs": [],
   "source": [
    "from pathlib import PurePath\n",
    "\n",
    "from code.config import cfg, update_cfg\n",
    "from code.data_utils.dataset import DatasetLoader\n",
    "from code.utils import project_root_path\n",
    "from code.generate_description import (generate_structure_description, generate_atom_feature_description, \n",
    "                                       generate_bond_feature_description, generate_full_description, generate_all_atom_feature_description)\n",
    "\n",
    "import warnings\n",
    "warnings.filterwarnings('ignore')"
   ]
  },
  {
   "cell_type": "code",
   "outputs": [],
   "source": [
    "cfg.dataset = \"ogbg-molbace\"\n",
    "\n",
    "data_path = PurePath(project_root_path, \"data\")"
   ],
   "metadata": {
    "collapsed": false,
    "ExecuteTime": {
     "end_time": "2024-01-05T19:11:24.711183Z",
     "start_time": "2024-01-05T19:11:24.659371Z"
    }
   },
   "id": "d6a72eedd334b127",
   "execution_count": 2
  },
  {
   "cell_type": "code",
   "outputs": [],
   "source": [
    "# Preprocess data\n",
    "dataloader = DatasetLoader(name=cfg.dataset, text='raw')\n",
    "dataset, smiles = dataloader.dataset, dataloader.text"
   ],
   "metadata": {
    "collapsed": false,
    "ExecuteTime": {
     "end_time": "2024-01-05T19:11:24.711619Z",
     "start_time": "2024-01-05T19:11:24.659624Z"
    }
   },
   "id": "845a0f33f1dede9d",
   "execution_count": 3
  },
  {
   "cell_type": "code",
   "outputs": [],
   "source": [
    "index = 0\n",
    "structure_description = generate_structure_description(\n",
    "    index=index, smiles_string=smiles[index]\n",
    ")\n",
    "atom_description = generate_atom_feature_description(\n",
    "    atom_x=dataset.x[index], atom_index=index, smiles_string=smiles[index]\n",
    ")\n",
    "bond_description = generate_bond_feature_description(bond_x=dataset.edge_attr[index])\n",
    "full_atom_description = generate_all_atom_feature_description(\n",
    "    index=index, smiles_string=smiles[index], mol_x=dataset[index].x\n",
    ")\n",
    "full_description = generate_full_description(\n",
    "    index=index, smiles_string=smiles[index], atom_x=dataset[index].x\n",
    ")"
   ],
   "metadata": {
    "collapsed": false,
    "ExecuteTime": {
     "end_time": "2024-01-05T19:11:24.711915Z",
     "start_time": "2024-01-05T19:11:24.659692Z"
    }
   },
   "id": "c49fafd8fdaa9868",
   "execution_count": 4
  },
  {
   "cell_type": "code",
   "outputs": [
    {
     "data": {
      "text/plain": "'This molecule can be represented as a graph among atoms 0 (O), 1 (C), 2 (C), 3 (C), 4 (N), 5 (C), 6 (O), 7 (C), 8 (C), 9 (C), 10 (C), 11 (C), 12 (C), 13 (C), 14 (C), 15 (C), 16 (C), 17 (N), 18 (C), 19 (N), 20 (C), 21 (C), 22 (C), 23 (C), 24 (C), 25 (C), 26 (C), 27 (C), 28 (C), 29 (C), 30 (C), 31 (C). In this graph:\\nAtom 0 (O) is connected to atom 1 (C) and atom 29 (C).\\nAtom 1 (C) is connected to atom 0 (O) and atom 2 (C).\\nAtom 2 (C) is connected to atom 1 (C) and atom 3 (C).\\nAtom 3 (C) is connected to atom 2 (C) and atom 4 (N) and atom 28 (C).\\nAtom 4 (N) is connected to atom 3 (C) and atom 5 (C).\\nAtom 5 (C) is connected to atom 4 (N) and atom 6 (O) and atom 7 (C).\\nAtom 6 (O) is connected to atom 5 (C).\\nAtom 7 (C) is connected to atom 5 (C) and atom 8 (C) and atom 27 (C).\\nAtom 8 (C) is connected to atom 7 (C) and atom 9 (C).\\nAtom 9 (C) is connected to atom 8 (C) and atom 10 (C) and atom 18 (C).\\nAtom 10 (C) is connected to atom 9 (C) and atom 11 (C).\\nAtom 11 (C) is connected to atom 10 (C) and atom 12 (C) and atom 16 (C).\\nAtom 12 (C) is connected to atom 11 (C) and atom 13 (C).\\nAtom 13 (C) is connected to atom 12 (C) and atom 14 (C) and atom 20 (C).\\nAtom 14 (C) is connected to atom 13 (C) and atom 15 (C).\\nAtom 15 (C) is connected to atom 14 (C) and atom 16 (C).\\nAtom 16 (C) is connected to atom 15 (C) and atom 17 (N) and atom 11 (C).\\nAtom 17 (N) is connected to atom 16 (C) and atom 18 (C).\\nAtom 18 (C) is connected to atom 17 (N) and atom 19 (N) and atom 9 (C).\\nAtom 19 (N) is connected to atom 18 (C).\\nAtom 20 (C) is connected to atom 13 (C) and atom 21 (C) and atom 25 (C).\\nAtom 21 (C) is connected to atom 20 (C) and atom 22 (C).\\nAtom 22 (C) is connected to atom 21 (C) and atom 23 (C).\\nAtom 23 (C) is connected to atom 22 (C) and atom 24 (C).\\nAtom 24 (C) is connected to atom 23 (C) and atom 25 (C).\\nAtom 25 (C) is connected to atom 24 (C) and atom 26 (C) and atom 20 (C).\\nAtom 26 (C) is connected to atom 25 (C).\\nAtom 27 (C) is connected to atom 7 (C).\\nAtom 28 (C) is connected to atom 3 (C) and atom 29 (C).\\nAtom 29 (C) is connected to atom 28 (C) and atom 30 (C) and atom 31 (C) and atom 0 (O).\\nAtom 30 (C) is connected to atom 29 (C).\\nAtom 31 (C) is connected to atom 29 (C).\\n'"
     },
     "execution_count": 5,
     "metadata": {},
     "output_type": "execute_result"
    }
   ],
   "source": [
    "structure_description"
   ],
   "metadata": {
    "collapsed": false,
    "ExecuteTime": {
     "end_time": "2024-01-05T19:11:24.864125Z",
     "start_time": "2024-01-05T19:11:24.697384Z"
    }
   },
   "id": "2a9823f7539f29e9",
   "execution_count": 5
  },
  {
   "cell_type": "code",
   "outputs": [
    {
     "data": {
      "text/plain": "'Atom 0 (O) has 7 atomics, has no specified chirality, has 2 bonds with other atoms, has a positive charge of 5, has 0 hydrogen atoms attached to it, has 0 unpaired electrons, has a SP3 hybridization, is not aromatic, is part of a ring.'"
     },
     "execution_count": 6,
     "metadata": {},
     "output_type": "execute_result"
    }
   ],
   "source": [
    "atom_description"
   ],
   "metadata": {
    "collapsed": false,
    "ExecuteTime": {
     "end_time": "2024-01-05T19:11:24.864648Z",
     "start_time": "2024-01-05T19:11:24.862535Z"
    }
   },
   "id": "9bd0affc76277db0",
   "execution_count": 6
  },
  {
   "cell_type": "code",
   "outputs": [
    {
     "data": {
      "text/plain": "'The bound type is SINGLE. The bond Stereo is STEREONONE. The bond is not Conjugated.'"
     },
     "execution_count": 9,
     "metadata": {},
     "output_type": "execute_result"
    }
   ],
   "source": [
    "bond_description"
   ],
   "metadata": {
    "collapsed": false,
    "ExecuteTime": {
     "end_time": "2024-01-05T19:11:53.124733Z",
     "start_time": "2024-01-05T19:11:53.117736Z"
    }
   },
   "id": "90a9de5953ad473c",
   "execution_count": 9
  },
  {
   "cell_type": "code",
   "outputs": [
    {
     "data": {
      "text/plain": "'This molecule can be represented as a graph among atoms 0 (O), 1 (C), 2 (C), 3 (C), 4 (N), 5 (C), 6 (O), 7 (C), 8 (C), 9 (C), 10 (C), 11 (C), 12 (C), 13 (C), 14 (C), 15 (C), 16 (C), 17 (N), 18 (C), 19 (N), 20 (C), 21 (C), 22 (C), 23 (C), 24 (C), 25 (C), 26 (C), 27 (C), 28 (C), 29 (C), 30 (C), 31 (C). In this graph:\\nAtom 0 (O) has 7 atomics, has no specified chirality, has 2 bonds with other atoms, has a positive charge of 5, has 0 hydrogen atoms attached to it, has 0 unpaired electrons, has a SP3 hybridization, is not aromatic, is part of a ring.\\nAtom 1 (C) has 5 atomics, has no specified chirality, has 4 bonds with other atoms, has a positive charge of 5, has 2 hydrogen atoms attached to it, has 0 unpaired electrons, has a SP3 hybridization, is not aromatic, is part of a ring.\\nAtom 2 (C) has 5 atomics, has no specified chirality, has 4 bonds with other atoms, has a positive charge of 5, has 2 hydrogen atoms attached to it, has 0 unpaired electrons, has a SP3 hybridization, is not aromatic, is part of a ring.\\nAtom 3 (C) has 5 atomics, has a clockwise tetrahedral chirality, has 4 bonds with other atoms, has a positive charge of 5, has 1 hydrogen atoms attached to it, has 0 unpaired electrons, has a SP3 hybridization, is not aromatic, is part of a ring.\\nAtom 4 (N) has 6 atomics, has no specified chirality, has 3 bonds with other atoms, has a positive charge of 5, has 1 hydrogen atoms attached to it, has 0 unpaired electrons, has a SP2 hybridization, is not aromatic, is not part of a ring.\\nAtom 5 (C) has 5 atomics, has no specified chirality, has 3 bonds with other atoms, has a positive charge of 5, has 0 hydrogen atoms attached to it, has 0 unpaired electrons, has a SP2 hybridization, is not aromatic, is not part of a ring.\\nAtom 6 (O) has 7 atomics, has no specified chirality, has 1 bonds with other atoms, has a positive charge of 5, has 0 hydrogen atoms attached to it, has 0 unpaired electrons, has a SP2 hybridization, is not aromatic, is not part of a ring.\\nAtom 7 (C) has 5 atomics, has a clockwise tetrahedral chirality, has 4 bonds with other atoms, has a positive charge of 5, has 1 hydrogen atoms attached to it, has 0 unpaired electrons, has a SP3 hybridization, is not aromatic, is not part of a ring.\\nAtom 8 (C) has 5 atomics, has no specified chirality, has 4 bonds with other atoms, has a positive charge of 5, has 2 hydrogen atoms attached to it, has 0 unpaired electrons, has a SP3 hybridization, is not aromatic, is not part of a ring.\\nAtom 9 (C) has 5 atomics, has no specified chirality, has 3 bonds with other atoms, has a positive charge of 5, has 0 hydrogen atoms attached to it, has 0 unpaired electrons, has a SP2 hybridization, is aromatic, is part of a ring.\\nAtom 10 (C) has 5 atomics, has no specified chirality, has 3 bonds with other atoms, has a positive charge of 5, has 1 hydrogen atoms attached to it, has 0 unpaired electrons, has a SP2 hybridization, is aromatic, is part of a ring.\\nAtom 11 (C) has 5 atomics, has no specified chirality, has 3 bonds with other atoms, has a positive charge of 5, has 0 hydrogen atoms attached to it, has 0 unpaired electrons, has a SP2 hybridization, is aromatic, is part of a ring.\\nAtom 12 (C) has 5 atomics, has no specified chirality, has 3 bonds with other atoms, has a positive charge of 5, has 1 hydrogen atoms attached to it, has 0 unpaired electrons, has a SP2 hybridization, is aromatic, is part of a ring.\\nAtom 13 (C) has 5 atomics, has no specified chirality, has 3 bonds with other atoms, has a positive charge of 5, has 0 hydrogen atoms attached to it, has 0 unpaired electrons, has a SP2 hybridization, is aromatic, is part of a ring.\\nAtom 14 (C) has 5 atomics, has no specified chirality, has 3 bonds with other atoms, has a positive charge of 5, has 1 hydrogen atoms attached to it, has 0 unpaired electrons, has a SP2 hybridization, is aromatic, is part of a ring.\\nAtom 15 (C) has 5 atomics, has no specified chirality, has 3 bonds with other atoms, has a positive charge of 5, has 1 hydrogen atoms attached to it, has 0 unpaired electrons, has a SP2 hybridization, is aromatic, is part of a ring.\\nAtom 16 (C) has 5 atomics, has no specified chirality, has 3 bonds with other atoms, has a positive charge of 5, has 0 hydrogen atoms attached to it, has 0 unpaired electrons, has a SP2 hybridization, is aromatic, is part of a ring.\\nAtom 17 (N) has 6 atomics, has no specified chirality, has 2 bonds with other atoms, has a positive charge of 5, has 0 hydrogen atoms attached to it, has 0 unpaired electrons, has a SP2 hybridization, is aromatic, is part of a ring.\\nAtom 18 (C) has 5 atomics, has no specified chirality, has 3 bonds with other atoms, has a positive charge of 5, has 0 hydrogen atoms attached to it, has 0 unpaired electrons, has a SP2 hybridization, is aromatic, is part of a ring.\\nAtom 19 (N) has 6 atomics, has no specified chirality, has 3 bonds with other atoms, has a positive charge of 5, has 2 hydrogen atoms attached to it, has 0 unpaired electrons, has a SP2 hybridization, is not aromatic, is not part of a ring.\\nAtom 20 (C) has 5 atomics, has no specified chirality, has 3 bonds with other atoms, has a positive charge of 5, has 0 hydrogen atoms attached to it, has 0 unpaired electrons, has a SP2 hybridization, is aromatic, is part of a ring.\\nAtom 21 (C) has 5 atomics, has no specified chirality, has 3 bonds with other atoms, has a positive charge of 5, has 1 hydrogen atoms attached to it, has 0 unpaired electrons, has a SP2 hybridization, is aromatic, is part of a ring.\\nAtom 22 (C) has 5 atomics, has no specified chirality, has 3 bonds with other atoms, has a positive charge of 5, has 1 hydrogen atoms attached to it, has 0 unpaired electrons, has a SP2 hybridization, is aromatic, is part of a ring.\\nAtom 23 (C) has 5 atomics, has no specified chirality, has 3 bonds with other atoms, has a positive charge of 5, has 1 hydrogen atoms attached to it, has 0 unpaired electrons, has a SP2 hybridization, is aromatic, is part of a ring.\\nAtom 24 (C) has 5 atomics, has no specified chirality, has 3 bonds with other atoms, has a positive charge of 5, has 1 hydrogen atoms attached to it, has 0 unpaired electrons, has a SP2 hybridization, is aromatic, is part of a ring.\\nAtom 25 (C) has 5 atomics, has no specified chirality, has 3 bonds with other atoms, has a positive charge of 5, has 0 hydrogen atoms attached to it, has 0 unpaired electrons, has a SP2 hybridization, is aromatic, is part of a ring.\\nAtom 26 (C) has 5 atomics, has no specified chirality, has 4 bonds with other atoms, has a positive charge of 5, has 3 hydrogen atoms attached to it, has 0 unpaired electrons, has a SP3 hybridization, is not aromatic, is not part of a ring.\\nAtom 27 (C) has 5 atomics, has no specified chirality, has 4 bonds with other atoms, has a positive charge of 5, has 3 hydrogen atoms attached to it, has 0 unpaired electrons, has a SP3 hybridization, is not aromatic, is not part of a ring.\\nAtom 28 (C) has 5 atomics, has no specified chirality, has 4 bonds with other atoms, has a positive charge of 5, has 2 hydrogen atoms attached to it, has 0 unpaired electrons, has a SP3 hybridization, is not aromatic, is part of a ring.\\nAtom 29 (C) has 5 atomics, has no specified chirality, has 4 bonds with other atoms, has a positive charge of 5, has 0 hydrogen atoms attached to it, has 0 unpaired electrons, has a SP3 hybridization, is not aromatic, is part of a ring.\\nAtom 30 (C) has 5 atomics, has no specified chirality, has 4 bonds with other atoms, has a positive charge of 5, has 3 hydrogen atoms attached to it, has 0 unpaired electrons, has a SP3 hybridization, is not aromatic, is not part of a ring.\\nAtom 31 (C) has 5 atomics, has no specified chirality, has 4 bonds with other atoms, has a positive charge of 5, has 3 hydrogen atoms attached to it, has 0 unpaired electrons, has a SP3 hybridization, is not aromatic, is not part of a ring.\\n'"
     },
     "execution_count": 7,
     "metadata": {},
     "output_type": "execute_result"
    }
   ],
   "source": [
    "full_atom_description"
   ],
   "metadata": {
    "collapsed": false,
    "ExecuteTime": {
     "end_time": "2024-01-05T19:11:24.980250Z",
     "start_time": "2024-01-05T19:11:24.862673Z"
    }
   },
   "id": "daacf84eb24b69e2",
   "execution_count": 7
  },
  {
   "cell_type": "code",
   "outputs": [
    {
     "data": {
      "text/plain": "'This molecule can be represented as a graph among atoms 0 (O), 1 (C), 2 (C), 3 (C), 4 (N), 5 (C), 6 (O), 7 (C), 8 (C), 9 (C), 10 (C), 11 (C), 12 (C), 13 (C), 14 (C), 15 (C), 16 (C), 17 (N), 18 (C), 19 (N), 20 (C), 21 (C), 22 (C), 23 (C), 24 (C), 25 (C), 26 (C), 27 (C), 28 (C), 29 (C), 30 (C), 31 (C). In this graph:\\nAtom 0 (O) has 7 atomics, has no specified chirality, has 2 bonds with other atoms, has a positive charge of 5, has 0 hydrogen atoms attached to it, has 0 unpaired electrons, has a SP3 hybridization, is not aromatic, is part of a ring.\\nAtom 0 (O) is connected to atom 1 (C) and atom 29 (C).\\nAtom 1 (C) has 5 atomics, has no specified chirality, has 4 bonds with other atoms, has a positive charge of 5, has 2 hydrogen atoms attached to it, has 0 unpaired electrons, has a SP3 hybridization, is not aromatic, is part of a ring.\\nAtom 1 (C) is connected to atom 0 (O) and atom 2 (C).\\nAtom 2 (C) has 5 atomics, has no specified chirality, has 4 bonds with other atoms, has a positive charge of 5, has 2 hydrogen atoms attached to it, has 0 unpaired electrons, has a SP3 hybridization, is not aromatic, is part of a ring.\\nAtom 2 (C) is connected to atom 1 (C) and atom 3 (C).\\nAtom 3 (C) has 5 atomics, has a clockwise tetrahedral chirality, has 4 bonds with other atoms, has a positive charge of 5, has 1 hydrogen atoms attached to it, has 0 unpaired electrons, has a SP3 hybridization, is not aromatic, is part of a ring.\\nAtom 3 (C) is connected to atom 2 (C) and atom 4 (N) and atom 28 (C).\\nAtom 4 (N) has 6 atomics, has no specified chirality, has 3 bonds with other atoms, has a positive charge of 5, has 1 hydrogen atoms attached to it, has 0 unpaired electrons, has a SP2 hybridization, is not aromatic, is not part of a ring.\\nAtom 4 (N) is connected to atom 3 (C) and atom 5 (C).\\nAtom 5 (C) has 5 atomics, has no specified chirality, has 3 bonds with other atoms, has a positive charge of 5, has 0 hydrogen atoms attached to it, has 0 unpaired electrons, has a SP2 hybridization, is not aromatic, is not part of a ring.\\nAtom 5 (C) is connected to atom 4 (N) and atom 6 (O) and atom 7 (C).\\nAtom 6 (O) has 7 atomics, has no specified chirality, has 1 bonds with other atoms, has a positive charge of 5, has 0 hydrogen atoms attached to it, has 0 unpaired electrons, has a SP2 hybridization, is not aromatic, is not part of a ring.\\nAtom 6 (O) is connected to atom 5 (C).\\nAtom 7 (C) has 5 atomics, has a clockwise tetrahedral chirality, has 4 bonds with other atoms, has a positive charge of 5, has 1 hydrogen atoms attached to it, has 0 unpaired electrons, has a SP3 hybridization, is not aromatic, is not part of a ring.\\nAtom 7 (C) is connected to atom 5 (C) and atom 8 (C) and atom 27 (C).\\nAtom 8 (C) has 5 atomics, has no specified chirality, has 4 bonds with other atoms, has a positive charge of 5, has 2 hydrogen atoms attached to it, has 0 unpaired electrons, has a SP3 hybridization, is not aromatic, is not part of a ring.\\nAtom 8 (C) is connected to atom 7 (C) and atom 9 (C).\\nAtom 9 (C) has 5 atomics, has no specified chirality, has 3 bonds with other atoms, has a positive charge of 5, has 0 hydrogen atoms attached to it, has 0 unpaired electrons, has a SP2 hybridization, is aromatic, is part of a ring.\\nAtom 9 (C) is connected to atom 8 (C) and atom 10 (C) and atom 18 (C).\\nAtom 10 (C) has 5 atomics, has no specified chirality, has 3 bonds with other atoms, has a positive charge of 5, has 1 hydrogen atoms attached to it, has 0 unpaired electrons, has a SP2 hybridization, is aromatic, is part of a ring.\\nAtom 10 (C) is connected to atom 9 (C) and atom 11 (C).\\nAtom 11 (C) has 5 atomics, has no specified chirality, has 3 bonds with other atoms, has a positive charge of 5, has 0 hydrogen atoms attached to it, has 0 unpaired electrons, has a SP2 hybridization, is aromatic, is part of a ring.\\nAtom 11 (C) is connected to atom 10 (C) and atom 12 (C) and atom 16 (C).\\nAtom 12 (C) has 5 atomics, has no specified chirality, has 3 bonds with other atoms, has a positive charge of 5, has 1 hydrogen atoms attached to it, has 0 unpaired electrons, has a SP2 hybridization, is aromatic, is part of a ring.\\nAtom 12 (C) is connected to atom 11 (C) and atom 13 (C).\\nAtom 13 (C) has 5 atomics, has no specified chirality, has 3 bonds with other atoms, has a positive charge of 5, has 0 hydrogen atoms attached to it, has 0 unpaired electrons, has a SP2 hybridization, is aromatic, is part of a ring.\\nAtom 13 (C) is connected to atom 12 (C) and atom 14 (C) and atom 20 (C).\\nAtom 14 (C) has 5 atomics, has no specified chirality, has 3 bonds with other atoms, has a positive charge of 5, has 1 hydrogen atoms attached to it, has 0 unpaired electrons, has a SP2 hybridization, is aromatic, is part of a ring.\\nAtom 14 (C) is connected to atom 13 (C) and atom 15 (C).\\nAtom 15 (C) has 5 atomics, has no specified chirality, has 3 bonds with other atoms, has a positive charge of 5, has 1 hydrogen atoms attached to it, has 0 unpaired electrons, has a SP2 hybridization, is aromatic, is part of a ring.\\nAtom 15 (C) is connected to atom 14 (C) and atom 16 (C).\\nAtom 16 (C) has 5 atomics, has no specified chirality, has 3 bonds with other atoms, has a positive charge of 5, has 0 hydrogen atoms attached to it, has 0 unpaired electrons, has a SP2 hybridization, is aromatic, is part of a ring.\\nAtom 16 (C) is connected to atom 15 (C) and atom 17 (N) and atom 11 (C).\\nAtom 17 (N) has 6 atomics, has no specified chirality, has 2 bonds with other atoms, has a positive charge of 5, has 0 hydrogen atoms attached to it, has 0 unpaired electrons, has a SP2 hybridization, is aromatic, is part of a ring.\\nAtom 17 (N) is connected to atom 16 (C) and atom 18 (C).\\nAtom 18 (C) has 5 atomics, has no specified chirality, has 3 bonds with other atoms, has a positive charge of 5, has 0 hydrogen atoms attached to it, has 0 unpaired electrons, has a SP2 hybridization, is aromatic, is part of a ring.\\nAtom 18 (C) is connected to atom 17 (N) and atom 19 (N) and atom 9 (C).\\nAtom 19 (N) has 6 atomics, has no specified chirality, has 3 bonds with other atoms, has a positive charge of 5, has 2 hydrogen atoms attached to it, has 0 unpaired electrons, has a SP2 hybridization, is not aromatic, is not part of a ring.\\nAtom 19 (N) is connected to atom 18 (C).\\nAtom 20 (C) has 5 atomics, has no specified chirality, has 3 bonds with other atoms, has a positive charge of 5, has 0 hydrogen atoms attached to it, has 0 unpaired electrons, has a SP2 hybridization, is aromatic, is part of a ring.\\nAtom 20 (C) is connected to atom 13 (C) and atom 21 (C) and atom 25 (C).\\nAtom 21 (C) has 5 atomics, has no specified chirality, has 3 bonds with other atoms, has a positive charge of 5, has 1 hydrogen atoms attached to it, has 0 unpaired electrons, has a SP2 hybridization, is aromatic, is part of a ring.\\nAtom 21 (C) is connected to atom 20 (C) and atom 22 (C).\\nAtom 22 (C) has 5 atomics, has no specified chirality, has 3 bonds with other atoms, has a positive charge of 5, has 1 hydrogen atoms attached to it, has 0 unpaired electrons, has a SP2 hybridization, is aromatic, is part of a ring.\\nAtom 22 (C) is connected to atom 21 (C) and atom 23 (C).\\nAtom 23 (C) has 5 atomics, has no specified chirality, has 3 bonds with other atoms, has a positive charge of 5, has 1 hydrogen atoms attached to it, has 0 unpaired electrons, has a SP2 hybridization, is aromatic, is part of a ring.\\nAtom 23 (C) is connected to atom 22 (C) and atom 24 (C).\\nAtom 24 (C) has 5 atomics, has no specified chirality, has 3 bonds with other atoms, has a positive charge of 5, has 1 hydrogen atoms attached to it, has 0 unpaired electrons, has a SP2 hybridization, is aromatic, is part of a ring.\\nAtom 24 (C) is connected to atom 23 (C) and atom 25 (C).\\nAtom 25 (C) has 5 atomics, has no specified chirality, has 3 bonds with other atoms, has a positive charge of 5, has 0 hydrogen atoms attached to it, has 0 unpaired electrons, has a SP2 hybridization, is aromatic, is part of a ring.\\nAtom 25 (C) is connected to atom 24 (C) and atom 26 (C) and atom 20 (C).\\nAtom 26 (C) has 5 atomics, has no specified chirality, has 4 bonds with other atoms, has a positive charge of 5, has 3 hydrogen atoms attached to it, has 0 unpaired electrons, has a SP3 hybridization, is not aromatic, is not part of a ring.\\nAtom 26 (C) is connected to atom 25 (C).\\nAtom 27 (C) has 5 atomics, has no specified chirality, has 4 bonds with other atoms, has a positive charge of 5, has 3 hydrogen atoms attached to it, has 0 unpaired electrons, has a SP3 hybridization, is not aromatic, is not part of a ring.\\nAtom 27 (C) is connected to atom 7 (C).\\nAtom 28 (C) has 5 atomics, has no specified chirality, has 4 bonds with other atoms, has a positive charge of 5, has 2 hydrogen atoms attached to it, has 0 unpaired electrons, has a SP3 hybridization, is not aromatic, is part of a ring.\\nAtom 28 (C) is connected to atom 3 (C) and atom 29 (C).\\nAtom 29 (C) has 5 atomics, has no specified chirality, has 4 bonds with other atoms, has a positive charge of 5, has 0 hydrogen atoms attached to it, has 0 unpaired electrons, has a SP3 hybridization, is not aromatic, is part of a ring.\\nAtom 29 (C) is connected to atom 28 (C) and atom 30 (C) and atom 31 (C) and atom 0 (O).\\nAtom 30 (C) has 5 atomics, has no specified chirality, has 4 bonds with other atoms, has a positive charge of 5, has 3 hydrogen atoms attached to it, has 0 unpaired electrons, has a SP3 hybridization, is not aromatic, is not part of a ring.\\nAtom 30 (C) is connected to atom 29 (C).\\nAtom 31 (C) has 5 atomics, has no specified chirality, has 4 bonds with other atoms, has a positive charge of 5, has 3 hydrogen atoms attached to it, has 0 unpaired electrons, has a SP3 hybridization, is not aromatic, is not part of a ring.\\nAtom 31 (C) is connected to atom 29 (C).\\n'"
     },
     "execution_count": 8,
     "metadata": {},
     "output_type": "execute_result"
    }
   ],
   "source": [
    "full_description"
   ],
   "metadata": {
    "collapsed": false,
    "ExecuteTime": {
     "end_time": "2024-01-05T19:11:24.981104Z",
     "start_time": "2024-01-05T19:11:24.979748Z"
    }
   },
   "id": "c685d9aa7b77226b",
   "execution_count": 8
  },
  {
   "cell_type": "code",
   "outputs": [],
   "source": [],
   "metadata": {
    "collapsed": false,
    "ExecuteTime": {
     "end_time": "2024-01-05T19:11:24.981294Z",
     "start_time": "2024-01-05T19:11:24.979987Z"
    }
   },
   "id": "39097404ff5b9d05",
   "execution_count": 8
  }
 ],
 "metadata": {
  "kernelspec": {
   "display_name": "Python 3",
   "language": "python",
   "name": "python3"
  },
  "language_info": {
   "codemirror_mode": {
    "name": "ipython",
    "version": 2
   },
   "file_extension": ".py",
   "mimetype": "text/x-python",
   "name": "python",
   "nbconvert_exporter": "python",
   "pygments_lexer": "ipython2",
   "version": "2.7.6"
  }
 },
 "nbformat": 4,
 "nbformat_minor": 5
}
