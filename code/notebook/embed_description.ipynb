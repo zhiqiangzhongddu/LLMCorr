{
 "cells": [
  {
   "cell_type": "code",
   "execution_count": 4,
   "id": "initial_id",
   "metadata": {
    "collapsed": true,
    "ExecuteTime": {
     "end_time": "2024-02-04T05:24:11.137083Z",
     "start_time": "2024-02-04T05:24:10.981595Z"
    }
   },
   "outputs": [],
   "source": [
    "import os\n",
    "from tqdm import tqdm\n",
    "from openai import OpenAI, AzureOpenAI\n",
    "\n",
    "from code.config import cfg, update_cfg\n",
    "from code.data_utils.utils import load_openai_embedding, save_similarity_matrix, load_similarity_matrix"
   ]
  },
  {
   "cell_type": "code",
   "outputs": [],
   "source": [
    "cfg.dataset = \"ogbg-molfreesolv\"\n",
    "cfg.llm.emb.data = \"des\"\n",
    "cfg.llm.emb.model = \"text-embedding-3-large\""
   ],
   "metadata": {
    "collapsed": false,
    "ExecuteTime": {
     "end_time": "2024-02-03T16:47:40.754651Z",
     "start_time": "2024-02-03T16:47:40.754229Z"
    }
   },
   "id": "2ff45eb4c6550bee",
   "execution_count": 26
  },
  {
   "cell_type": "code",
   "outputs": [],
   "source": [],
   "metadata": {
    "collapsed": false,
    "ExecuteTime": {
     "end_time": "2024-02-03T16:47:40.763552Z",
     "start_time": "2024-02-03T16:47:40.761055Z"
    }
   },
   "id": "b49a45fea6fe35b4",
   "execution_count": 26
  },
  {
   "cell_type": "code",
   "outputs": [],
   "source": [
    "# Compute distance\n",
    "embeddings = load_openai_embedding(\n",
    "    dataset_name=cfg.dataset,\n",
    "    embedding_model=cfg.llm.emb.model,\n",
    "    embedding_type=cfg.llm.emb.data\n",
    ")"
   ],
   "metadata": {
    "collapsed": false,
    "ExecuteTime": {
     "end_time": "2024-02-03T16:47:45.212322Z",
     "start_time": "2024-02-03T16:47:40.761993Z"
    }
   },
   "id": "583a97aabef763da",
   "execution_count": 27
  },
  {
   "cell_type": "code",
   "outputs": [],
   "source": [
    "from sklearn.metrics.pairwise import cosine_similarity"
   ],
   "metadata": {
    "collapsed": false,
    "ExecuteTime": {
     "end_time": "2024-02-03T16:47:45.282050Z",
     "start_time": "2024-02-03T16:47:41.336206Z"
    }
   },
   "id": "95835c92cea9a0c3",
   "execution_count": 28
  },
  {
   "cell_type": "code",
   "outputs": [],
   "source": [
    "cosine_similarity_matrix = cosine_similarity(embeddings)"
   ],
   "metadata": {
    "collapsed": false,
    "ExecuteTime": {
     "end_time": "2024-02-03T16:47:45.341354Z",
     "start_time": "2024-02-03T16:47:41.357711Z"
    }
   },
   "id": "6c418e96151a7902",
   "execution_count": 29
  },
  {
   "cell_type": "code",
   "outputs": [],
   "source": [],
   "metadata": {
    "collapsed": false,
    "ExecuteTime": {
     "end_time": "2024-02-03T16:47:45.341655Z",
     "start_time": "2024-02-03T16:47:41.403724Z"
    }
   },
   "id": "2441fe0e99e7fddf",
   "execution_count": 29
  },
  {
   "cell_type": "code",
   "outputs": [
    {
     "name": "stdout",
     "output_type": "stream",
     "text": [
      "Created directory /home/zhiqiang/LLMaGML/input/similarity/des/ogbg-molfreesolv/\n"
     ]
    }
   ],
   "source": [
    "save_similarity_matrix(\n",
    "    dataset_name=cfg.dataset, embedding_model=cfg.llm.emb.model,\n",
    "    embedding_type=cfg.llm.emb.data, similarity_metric=\"cosine\",\n",
    "    similarity_matrix=cosine_similarity_matrix\n",
    ")"
   ],
   "metadata": {
    "collapsed": false,
    "ExecuteTime": {
     "end_time": "2024-02-03T16:47:45.341958Z",
     "start_time": "2024-02-03T16:47:41.404167Z"
    }
   },
   "id": "63e9e487b7e49f2a",
   "execution_count": 30
  },
  {
   "cell_type": "code",
   "outputs": [],
   "source": [],
   "metadata": {
    "collapsed": false,
    "ExecuteTime": {
     "end_time": "2024-02-03T16:47:45.342120Z",
     "start_time": "2024-02-03T16:47:41.404271Z"
    }
   },
   "id": "f98d1cd0375fe32d",
   "execution_count": 30
  },
  {
   "cell_type": "code",
   "outputs": [],
   "source": [
    "from code.data_utils.utils import load_openai_embedding, save_open_ai_embedding"
   ],
   "metadata": {
    "collapsed": false,
    "ExecuteTime": {
     "end_time": "2024-02-04T05:36:23.845099Z",
     "start_time": "2024-02-04T05:36:19.356916Z"
    }
   },
   "id": "65c0bf196c547345",
   "execution_count": 1
  },
  {
   "cell_type": "code",
   "outputs": [],
   "source": [
    "dataset_name=\"ogbg-molbace\"\n",
    "embedding_model=\"text-embedding-3-large\"\n",
    "embedding_type=\"des\"\n",
    "embedding = load_openai_embedding(\n",
    "    dataset_name=dataset_name, embedding_model=embedding_model, \n",
    "    embedding_type=embedding_type\n",
    ")"
   ],
   "metadata": {
    "collapsed": false,
    "ExecuteTime": {
     "end_time": "2024-02-04T05:51:10.699230Z",
     "start_time": "2024-02-04T05:51:09.204888Z"
    }
   },
   "id": "608f338b8ea046db",
   "execution_count": 43
  },
  {
   "cell_type": "code",
   "outputs": [],
   "source": [
    "save_open_ai_embedding(\n",
    "    dataset_name=dataset_name, embedding_model=embedding_model, \n",
    "    embedding_type=embedding_type, embedding=embedding\n",
    ")"
   ],
   "metadata": {
    "collapsed": false,
    "ExecuteTime": {
     "end_time": "2024-02-04T05:51:10.700347Z",
     "start_time": "2024-02-04T05:51:10.653527Z"
    }
   },
   "id": "844e7995274b80b4",
   "execution_count": 44
  },
  {
   "cell_type": "code",
   "outputs": [],
   "source": [],
   "metadata": {
    "collapsed": false,
    "ExecuteTime": {
     "end_time": "2024-02-04T05:36:35.949941Z",
     "start_time": "2024-02-04T05:36:33.352383Z"
    }
   },
   "id": "3b97d0876848978b",
   "execution_count": 5
  },
  {
   "cell_type": "code",
   "outputs": [],
   "source": [],
   "metadata": {
    "collapsed": false
   },
   "id": "8ebcf72319f6cd51",
   "execution_count": null
  }
 ],
 "metadata": {
  "kernelspec": {
   "display_name": "Python 3",
   "language": "python",
   "name": "python3"
  },
  "language_info": {
   "codemirror_mode": {
    "name": "ipython",
    "version": 2
   },
   "file_extension": ".py",
   "mimetype": "text/x-python",
   "name": "python",
   "nbconvert_exporter": "python",
   "pygments_lexer": "ipython2",
   "version": "2.7.6"
  }
 },
 "nbformat": 4,
 "nbformat_minor": 5
}
