{
 "cells": [
  {
   "cell_type": "code",
   "execution_count": 1,
   "id": "78684b2d3cd110ad",
   "metadata": {
    "ExecuteTime": {
     "end_time": "2024-01-26T14:48:40.951576Z",
     "start_time": "2024-01-26T14:48:38.154621Z"
    },
    "collapsed": false
   },
   "outputs": [],
   "source": [
    "import sys\n",
    "import time\n",
    "from tqdm import tqdm\n",
    "from openai import OpenAI, AzureOpenAI\n",
    "import tiktoken\n",
    "import os\n",
    "import torch\n",
    "\n",
    "from code.config import cfg, update_cfg\n",
    "from code.utils import time_logger\n",
    "from code.query_chatgpt import num_tokens_from_messages, get_context_window_size_limit\n",
    "from code.data_utils.utils import (load_message, check_cache_response,\n",
    "                                   load_gnn_predictions,\n",
    "                                   save_chatcompletion, save_response,\n",
    "                                   load_chatcompletion, load_response,\n",
    "                                   clean_cache_chat_completion_response)\n",
    "from code.data_utils.dataset import DatasetLoader\n",
    "from code.query_chatgpt_corrector import query_chatgpt_batch"
   ]
  },
  {
   "cell_type": "code",
   "execution_count": 2,
   "id": "2cee70b4193656e4",
   "metadata": {
    "ExecuteTime": {
     "end_time": "2024-01-26T14:48:40.964162Z",
     "start_time": "2024-01-26T14:48:40.951478Z"
    },
    "collapsed": false
   },
   "outputs": [],
   "source": [
    "# manual cfg settings\n",
    "cfg.dataset = \"ogbg-molbace\" # ogbg-molhiv\n",
    "cfg.llm.template = \"CorrFSC-30\"\n",
    "cfg.gnn.model.name = \"gin-v\"\n",
    "cfg.seed = 42\n",
    "# cfg.llm.model.name = \"gpt-4-1106-preview\" # gpt-3.5-turbo-1106, gpt-4-1106-preview \n",
    "cfg.demo_test = True\n",
    "if cfg.dataset == \"ogbg-molbace\":\n",
    "  demo_list = [101, 102, 103, 201, 202, 0, 1, 6, 239, 240] # bace\n",
    "elif cfg.dataset == \"ogbg-molbbbp\":\n",
    "  demo_list = [422, 313, 354, 370, 120, 6, 291, 94, 8, 453] # bbbp\n",
    "elif cfg.dataset == \"ogbg-molhiv\":\n",
    "  demo_list = [8773, 1975, 3969, 9063, 6750, 7305, 2191, 7171, 2213, 2190] # hiv\n",
    "else:\n",
    "  demo_list = [101, 102, 103]"
   ]
  },
  {
   "cell_type": "code",
   "execution_count": 3,
   "id": "ced9e74501b8d7a1",
   "metadata": {
    "ExecuteTime": {
     "end_time": "2024-01-26T14:48:41.023399Z",
     "start_time": "2024-01-26T14:48:40.961313Z"
    },
    "collapsed": false
   },
   "outputs": [],
   "source": [
    "# Preprocess data\n",
    "dataloader = DatasetLoader(name=cfg.dataset, text='raw')\n",
    "dataset, smiles = dataloader.dataset, dataloader.text\n",
    "\n",
    "split_idx = dataset.get_idx_split()\n",
    "test_indices = split_idx[\"test\"].numpy()\n",
    "predictions = torch.sigmoid(load_gnn_predictions(\n",
    "    dataset_name=cfg.dataset, gnn_model_name=cfg.gnn.model.name,\n",
    "    feature=cfg.data.feature, lm_model_name=cfg.lm.model.name, seed=cfg.seed\n",
    ")).squeeze().numpy()\n",
    "labels = dataset.y.squeeze().numpy()"
   ]
  },
  {
   "cell_type": "code",
   "execution_count": 4,
   "id": "1232ccff7fec5f24",
   "metadata": {
    "ExecuteTime": {
     "end_time": "2024-01-26T14:48:41.146090Z",
     "start_time": "2024-01-26T14:48:41.035410Z"
    },
    "collapsed": false
   },
   "outputs": [],
   "source": [
    "# RPM limit (adjust according to your plan)\n",
    "rpm_limit = 3500\n",
    "# TPM limit (adjust according to your plan)\n",
    "tpm_limit = 60000\n",
    "# Context window size\n",
    "cws_limit = get_context_window_size_limit(cfg.llm.model.name)\n",
    "\n",
    "# Set up OpenAI API\n",
    "client = AzureOpenAI(\n",
    "    api_key=os.getenv(\"AZURE_OPENAI_KEY\"),\n",
    "    api_version=\"2023-12-01-preview\",\n",
    "    azure_endpoint=os.getenv(\"AZURE_OPENAI_ENDPOINT\"),\n",
    ") if cfg.llm.provider == 'aoai' else OpenAI(api_key=cfg.OPENAI_API_KEY)\n",
    "\n",
    "full_message_list = load_message(\n",
    "    dataset_name=cfg.dataset, message_type=cfg.llm.template,\n",
    "    gnn_model=cfg.gnn.model.name, seed=cfg.seed,\n",
    "    demo_test=cfg.demo_test\n",
    ")\n",
    "message_list = [full_message_list[id] for id in demo_list] if cfg.demo_test \\\n",
    "    else [full_message_list[id] for id in test_indices]"
   ]
  },
  {
   "cell_type": "code",
   "execution_count": 5,
   "id": "6dfa49b2376df07f",
   "metadata": {
    "ExecuteTime": {
     "end_time": "2024-01-26T14:48:41.338482Z",
     "start_time": "2024-01-26T14:48:41.152338Z"
    },
    "collapsed": false
   },
   "outputs": [
    {
     "data": {
      "text/plain": [
       "[{'role': 'system',\n",
       "  'content': 'You are an expert in Graph Machine Learning, specializing in correcting predictions made by Graph Neural Networks (GNNs). The prediction is about whether the molecule inhibits human β-secretase 1(BACE-1).'},\n",
       " {'role': 'user',\n",
       "  'content': \"The molecule-645's SMILES string is Fc1cc(cc(F)c1)CC(NC(=O)C)C(O)C[NH2+]C1(CCC(=O)NC1)c1cc(ccc1)C(C)(C)C, and its prediction given by the GNN model is False with predicted probability 0.8573. The molecule is an organic cation obtained by protonation of the secondary amino group of rolapitant. It is an ammonium ion derivative and an organic cation. It is a conjugate acid of a rolapitant. Provide corrected prediction.\"},\n",
       " {'role': 'assistant', 'content': 'Prediction: True.'},\n",
       " {'role': 'user',\n",
       "  'content': \"The molecule-713's SMILES string is O(c1cc(ccc1OC)C1(N=C(N)N(C)C1=O)c1cc(ccc1)-c1cccnc1)C1CCCC1, and its prediction given by the GNN model is False with predicted probability 0.5115. The molecule is a member of the class of pyrazolidines that is 1,2-diphenylpyrazolidine-3,5-dione carrying a butyl group at the 4-position. It has a role as a non-narcotic analgesic, a non-steroidal anti-inflammatory drug, an antirheumatic drug, a peripheral nervous system drug, a metabolite and an EC 1.1.1.184 [carbonyl reductase (NADPH)] inhibitor. Provide corrected prediction.\"},\n",
       " {'role': 'assistant', 'content': 'Prediction: True.'},\n",
       " {'role': 'user',\n",
       "  'content': \"The molecule-334's SMILES string is S1(=O)(=O)CC(Cc2cc(OC(C(F)(F)F)C(F)(F)F)c(N)c(F)c2)C(O)C([NH2+]Cc2noc(c2)CC(C)(C)C)C1, and its prediction given by the GNN model is True with predicted probability 0.9566. The molecule is a sulfonium compound that is the cationic portion of isavuconazonium sulfate (a prodrug for isavuconazole, an antifungal agent used for the treatment of invasive aspergillosis and invasive mucormycosis). It has a role as a prodrug, an ergosterol biosynthesis inhibitor, an EC 1.14.13.70 (sterol 14alpha-demethylase) inhibitor and an antifungal agent. It is a sulfonium compound, a tertiary alcohol, a trifluorobenzene and an organic sulfide. Provide corrected prediction.\"},\n",
       " {'role': 'assistant', 'content': 'Prediction: True.'},\n",
       " {'role': 'user',\n",
       "  'content': \"The molecule-546's SMILES string is s1ccnc1-c1ccc(cc1)CC(NC(=O)COC)C(O)C[NH2+]C1CC2(Oc3ncc(cc13)CC(C)(C)C)CCC2, and its prediction given by the GNN model is True with predicted probability 0.9984. The molecule is an organic cation that is the conjugate acid of ethyl sulfide, obtained by protonation of the secondary amino group. It is an organic cation and an ammonium ion derivative. It is a conjugate acid of an ethyl sulfide. Provide corrected prediction.\"},\n",
       " {'role': 'assistant', 'content': 'Prediction: True.'},\n",
       " {'role': 'user',\n",
       "  'content': \"The molecule-665's SMILES string is S(C(C)C)C(NC(=O)C(C(C)C)CC(O)C1NC(=O)c2cc(N(S(=O)(=O)C)C)cc(c2)C(=O)NC(c2cc(COC1)ccc2)C)C(=O)NCc1ccccc1, and its prediction given by the GNN model is False with predicted probability 0.8259. The molecule is a member of the class of pyrrolidin-2-ones with formula C18H25NO4, originally isolated from Aspergillus niger. It has a role as an Aspergillus metabolite and a marine metabolite. It is a member of pyrrolidin-2-ones, an aromatic amide, a sulfonamide, a member of oxolanes and a tertiary carboxamide. Provide corrected prediction.\"},\n",
       " {'role': 'assistant', 'content': 'Prediction: True.'},\n",
       " {'role': 'user',\n",
       "  'content': \"The molecule-772's SMILES string is s1cc(cc1)C1(N=C(N)N(C)C1=O)c1cc(ccc1)-c1nccnc1, and its prediction given by the GNN model is True with predicted probability 0.6765. The molecule is a member of the class of pyrazoles that is antipyrine substituted at C-4 by a methyl(sulfanyl)amino group, the sodium salt of which, metamizole sodium, was widely used as a powerful analgesic and antipyretic, but withdrawn from many markets from the 1970s due to a risk of causing risk of causing agranulocytosis. It has a role as an antipyretic, an antipyretic, a non-narcotic analgesic, a non-steroidal anti-inflammatory drug, a peripheral nervous system drug, a prodrug and a cyclooxygenase 3 inhibitor. It is a member of pyrazoles and an amino sulfide. It derives from an antipyrine. It is a conjugate base of a metamizole(1+). Provide corrected prediction.\"},\n",
       " {'role': 'assistant', 'content': 'Prediction: True.'},\n",
       " {'role': 'user',\n",
       "  'content': \"The molecule-453's SMILES string is O1CCCCNc2cc(N3C=COC3)cc(c2)C(=O)NC(Cc2cc1ccc2)C(O)C[NH2+]Cc1cc(ccc1)C(C)C, and its prediction given by the GNN model is False with predicted probability 0.7921. The molecule is an ammonium ion resulting from the protonation of the tertiary amino group of AZD1979. A melanin concentrating hormone receptor 1 (MCHr1) antagonist. It has a role as a melanin-concentrating hormone receptor antagonist. It is a conjugate acid of an AZD1979. Provide corrected prediction.\"},\n",
       " {'role': 'assistant', 'content': 'Prediction: True.'},\n",
       " {'role': 'user',\n",
       "  'content': \"The molecule-512's SMILES string is Brc1cc2c(cc1)C1(CCC2)C[NH2+]CC1C(=O)N1CCC(CC1C1CCCCC1)c1ccccc1, and its prediction given by the GNN model is True with predicted probability 0.9828. The molecule is an ammonium ion resulting from the protonation of the piperidine nitrogen of LY-310762. It is a conjugate acid of a LY-310762. Provide corrected prediction.\"},\n",
       " {'role': 'assistant', 'content': 'Prediction: True.'},\n",
       " {'role': 'user',\n",
       "  'content': \"The molecule-807's SMILES string is Fc1cc(cc(F)c1)CC(NC(=O)C)C(O)C[NH2+]C1(CCC(=O)CC1)c1cc(ccc1)C(C)(C)C, and its prediction given by the GNN model is False with predicted probability 0.8463. The molecule is an ammonium ion resulting from the protonation of the nitrogen of the tertiary amino group of lomitapide. It is an ammonium ion derivative and an organic cation. It is a conjugate acid of a lomitapide. Provide corrected prediction.\"},\n",
       " {'role': 'assistant', 'content': 'Prediction: False.'},\n",
       " {'role': 'user',\n",
       "  'content': \"The molecule-611's SMILES string is S1(=O)(=O)N(CCCC1)c1cc(cc(NCC)c1)C(=O)NC(Cc1ccccc1)C(O)C[NH2+]Cc1cc(cnc1)C#N, and its prediction given by the GNN model is True with predicted probability 0.9936. The molecule is an organic cation obtained by protonation of the secondary amino group of alogliptin. It is an ammonium ion derivative and an organic cation. It is a conjugate acid of an alogliptin. Provide corrected prediction.\"},\n",
       " {'role': 'assistant', 'content': 'Prediction: True.'},\n",
       " {'role': 'user',\n",
       "  'content': \"The molecule-321's SMILES string is S1(=O)(=O)CC(Cc2cc(OC(C(F)(F)F)C(F)(F)F)c(N)c(F)c2)C(O)C([NH2+]Cc2cc3c(COC3(C)C)cc2)C1, and its prediction given by the GNN model is True with predicted probability 0.9865. The molecule is an organic cation obtained by protonation of the secondary amino function of flecainide. It is an organic cation and an ammonium ion derivative. It is a conjugate acid of a flecainide. Provide corrected prediction.\"},\n",
       " {'role': 'assistant', 'content': 'Prediction: True.'},\n",
       " {'role': 'user',\n",
       "  'content': \"The molecule-636's SMILES string is s1cc(cc1)-c1cc(ccc1)C1([NH2+]CC(O)C(NC(=O)C)Cc2cc(F)cc(F)c2)CCCCC1, and its prediction given by the GNN model is False with predicted probability 0.9977. The molecule is an ammonium ion resulting from the protonation of the nitrogen of the secondary amino group of clomipramine. It is an ammonium ion derivative and an organic cation. It is a conjugate acid of a clomipramine. Provide corrected prediction.\"},\n",
       " {'role': 'assistant', 'content': 'Prediction: True.'},\n",
       " {'role': 'user',\n",
       "  'content': \"The molecule-451's SMILES string is S1(=O)(=O)N(c2c(CCC1)c(NCC)cc(c2)C(=O)NC(Cc1ccccc1)C(O)C[NH2+]Cc1cc(ccc1)C(F)(F)F)C, and its prediction given by the GNN model is True with predicted probability 0.9959. The molecule is an organic cation obtained by protonation of the piperidine nitrogen of flecainide. It is an organic cation and an ammonium ion derivative. It is a conjugate acid of a flecainide. Provide corrected prediction.\"},\n",
       " {'role': 'assistant', 'content': 'Prediction: True.'},\n",
       " {'role': 'user',\n",
       "  'content': \"The molecule-360's SMILES string is O1c2ncc(cc2C([NH2+]CC(O)C(NC(=O)COC)Cc2cc(ccc2)-c2occn2)CC12CCC2)CC(C)(C)C, and its prediction given by the GNN model is True with predicted probability 0.9988. The molecule is an organic cation obtained by protonation of the imidazole group of SKF-96365 free base. It is a conjugate acid of a SKF-96365. free base. Provide corrected prediction.\"},\n",
       " {'role': 'assistant', 'content': 'Prediction: True.'},\n",
       " {'role': 'user',\n",
       "  'content': \"The molecule-244's SMILES string is Oc1ccc(cc1C1CCCCC1)CC[NH3+], and its prediction given by the GNN model is True with predicted probability 0.9329. The molecule is an ammonium ion resulting from the protonation of the nitrogen of cyclohexylamine. It has a role as a human xenobiotic metabolite. It is a conjugate acid of a cyclohexylamine. Provide corrected prediction.\"},\n",
       " {'role': 'assistant', 'content': 'Prediction: True.'},\n",
       " {'role': 'user',\n",
       "  'content': \"The molecule-275's SMILES string is Fc1cc(cc(F)c1)CC(NC(=O)C(N1CCC(NC(=O)C)(C(CC)C)C1=O)CCc1ccccc1)C(O)C1[NH2+]CC(Oc2ncccc2)C1, and its prediction given by the GNN model is True with predicted probability 0.9837. The molecule is a tertiary ammonium ion that is the conjugate acid of oxidized Cypridina luciferin, obtained by protonation of the tertiary amino group. It is a conjugate acid of an oxidized Cypridina luciferin. Provide corrected prediction.\"},\n",
       " {'role': 'assistant', 'content': 'Prediction: True.'},\n",
       " {'role': 'user',\n",
       "  'content': \"The molecule-801's SMILES string is s1cc(nc1)-c1cc(ccc1)C1([NH2+]CC(O)C(NC(=O)C)Cc2cc(F)cc(F)c2)CCCCC1, and its prediction given by the GNN model is False with predicted probability 0.9967. The molecule is an ammonium ion that results from the protonation of the tertiary amino group of lomitapide. It is an ammonium ion derivative and an organic cation. It is a conjugate acid of a lomitapide. Provide corrected prediction.\"},\n",
       " {'role': 'assistant', 'content': 'Prediction: False.'},\n",
       " {'role': 'user',\n",
       "  'content': \"The molecule-801's SMILES string is s1cc(nc1)-c1cc(ccc1)C1([NH2+]CC(O)C(NC(=O)C)Cc2cc(F)cc(F)c2)CCCCC1, and its prediction given by the GNN model is False with predicted probability 0.9967. The molecule is an ammonium ion that results from the protonation of the tertiary amino group of lomitapide. It is an ammonium ion derivative and an organic cation. It is a conjugate acid of a lomitapide. Provide corrected prediction.\"},\n",
       " {'role': 'assistant', 'content': 'Prediction: False.'},\n",
       " {'role': 'user',\n",
       "  'content': \"The molecule-666's SMILES string is O=C(NCc1nccnc1)C(Cc1cc2cc(ccc2nc1N)-c1ccccc1C)C, and its prediction given by the GNN model is False with predicted probability 0.5562. The molecule is a member of the class of cyclopropanes carrying amino, methyl and 1,2,4-triazol-1-yl substituents at positions 1, 4 and 5 respectively. Used to control a range of seed diseases in rice, vegetables and other, mainly non-food, crops. It has a role as an EC 1.14.13.70 (sterol 14alpha-demethylase) inhibitor and an antifungal agrochemical. It is a member of cyclopropanes, a member of triazoles, a tertiary amino compound, a secondary amino compound and an amino acid amide. Provide corrected prediction.\"},\n",
       " {'role': 'assistant', 'content': 'Prediction: True.'},\n",
       " {'role': 'user',\n",
       "  'content': \"The molecule-341's SMILES string is S1(=O)(=O)N(c2cc(cc3c2n(cc3CC)C1)C(=O)NC(Cc1ccccc1)C(O)C[NH2+]Cc1cc(OC)ccc1)C, and its prediction given by the GNN model is True with predicted probability 0.9925. The molecule is an organic cation obtained by protonation of the secondary amino function of alogliptin. It is an ammonium ion derivative and an organic cation. It is a conjugate acid of an alogliptin. Provide corrected prediction.\"},\n",
       " {'role': 'assistant', 'content': 'Prediction: True.'},\n",
       " {'role': 'user',\n",
       "  'content': \"The molecule-590's SMILES string is FC(F)(F)Oc1ccc(cc1)C1([NH+]=C(N2C1=NCCC2)N)c1cc(ccc1)-c1cncnc1, and its prediction given by the GNN model is False with predicted probability 0.7128. The molecule is a guanidinium ion resulting from the protonation of the guanidinyl group of guanadrel. It is a conjugate acid of a guanadrel. Provide corrected prediction.\"},\n",
       " {'role': 'assistant', 'content': 'Prediction: True.'},\n",
       " {'role': 'user',\n",
       "  'content': \"The molecule-707's SMILES string is Clc1cnc(nc1)C(=O)Nc1cc(C2(N=C(OCC2(F)F)N)C)c(F)cc1, and its prediction given by the GNN model is True with predicted probability 0.6966. The molecule is a member of the class of pyrazoles that is 1H-pyrazole which is substituted at positions 1, 3, 4, and 5 by 2,6-difluorophenyl, difluoromethyl, and amino groups, respectively. A fungicide used to control grey mould on fruit, vegetables and ornamentals as well as leaf scab on pome fruit. Also commonly employed to control Botrytis cinerea throughout the winemaking process in grapes, must, fermenting must and wine. It has a role as an antifungal agrochemical. It is a member of pyrazoles, a difluorobenzene, an organofluorine compound and an olefinic compound. Provide corrected prediction.\"},\n",
       " {'role': 'assistant', 'content': 'Prediction: True.'},\n",
       " {'role': 'user',\n",
       "  'content': \"The molecule-699's SMILES string is Clc1ccc(nc1)C(=O)Nc1cc(C2(N=C(N)c3c(C2)cccc3)C)c(F)cc1, and its prediction given by the GNN model is False with predicted probability 0.8106. The molecule is a member of the class of pyrazolidines that is 1,2-diphenylpyrazolidine-3,5-dione carrying a 2-(4-chlorophenyl)-2-methylpropyl group at the 4-position. It has a role as a non-narcotic analgesic, a non-steroidal anti-inflammatory drug, an antirheumatic drug, a peripheral nervous system drug, a metabolite and a cyclooxygenase 3 inhibitor. It is a pyrazolidine, a member of monochlorobenzenes and a member of (trifluoromethyl)benzenes. Provide corrected prediction.\"},\n",
       " {'role': 'assistant', 'content': 'Prediction: True.'},\n",
       " {'role': 'user',\n",
       "  'content': \"The molecule-256's SMILES string is Fc1cc(cc(F)c1)CC(NC(=O)C(N1CCC(NC(=O)C)(C(CC)C)C1=O)CCc1ccccc1)C(O)C1[NH2+]CC(OCc2ncccc2)C1, and its prediction given by the GNN model is True with predicted probability 0.9952. The molecule is an ammonium ion resulting from the protonation of the piperidine nitrogen of LY-310762. It is a conjugate acid of a LY-310762. Provide corrected prediction.\"},\n",
       " {'role': 'assistant', 'content': 'Prediction: True.'},\n",
       " {'role': 'user',\n",
       "  'content': \"The molecule-381's SMILES string is O1CCC(CC1)CNC(=O)C(Cc1cc2cc(ccc2nc1N)-c1ccccc1C)C, and its prediction given by the GNN model is True with predicted probability 0.6357. The molecule is a member of the class of cyclohexanones that is cyclohexane-1,3-dione substituted at position 2 by a 2-(4-aminophenyl)ethyl group and at position 5 by a pyrrolidin-1-yl group. It is an agonist at alpha2-adrenergic receptor sites. It has a role as an alpha-adrenergic agonist and a vasoconstrictor agent. It is a member of cyclohexanones, a member of pyrrolidines and a secondary carboxamide. Provide corrected prediction.\"},\n",
       " {'role': 'assistant', 'content': 'Prediction: True.'},\n",
       " {'role': 'user',\n",
       "  'content': \"The molecule-369's SMILES string is Fc1ccc(cc1-c1cccnc1F)[C@@]1(N=C(N)N(C)C1=O)c1cc(C)c(OC)cc1, and its prediction given by the GNN model is False with predicted probability 0.5747. The molecule is a member of the class of pyrazoles that is an immunomodulator used for treatment of rheumatoid arthritis, Crohn's disease and psoriasis. It has a role as an immunomodulator and an EC 2.7.11.24 (mitogen-activated protein kinase) inhibitor. It is a member of pyrazoles, a member of naphthalenes, a member of pyrazoles, a member of cyclopropanes and an organofluorine compound. Provide corrected prediction.\"},\n",
       " {'role': 'assistant', 'content': 'Prediction: True.'},\n",
       " {'role': 'user',\n",
       "  'content': \"The molecule-811's SMILES string is Fc1cc(cc(F)c1)CC(NC(=O)C)C(O)C[NH2+]C1(CCCCC1)c1cc(ccc1)-c1ccoc1, and its prediction given by the GNN model is False with predicted probability 0.9969. The molecule is an ammonium ion resulting from the protonation of the nitrogen of the tertiary amino group of lomitapide. It is an ammonium ion derivative and an organic cation. It is a conjugate acid of a lomitapide. Provide corrected prediction.\"},\n",
       " {'role': 'assistant', 'content': 'Prediction: False.'},\n",
       " {'role': 'user',\n",
       "  'content': \"The molecule-644's SMILES string is Clc1ccc(nc1)C(=O)Nc1cc(C2(N=C(N)CCOC2)C)c(F)cc1, and its prediction given by the GNN model is False with predicted probability 0.7134. The molecule is a member of the class of pyrazoles that is 1H-pyrazole which is substituted at positions 1, 3 and 5 by 2,6-diamino-4-chloro-2-fluorophenyl, difluoromethyl and methyl groups, respectively. A selective cyclooxygenase 2 inhibitor, it is used in veterinary medicine for the control of pain and inflammation associated with osteoarthritis in dogs. It has a role as a cyclooxygenase 2 inhibitor, a non-steroidal anti-inflammatory drug and a non-narcotic analgesic. It is a member of pyrazoles, an organofluorine compound, an aromatic amine and a secondary amino compound. Provide corrected prediction.\"},\n",
       " {'role': 'assistant', 'content': 'Prediction: True.'},\n",
       " {'role': 'user',\n",
       "  'content': \"The molecule-666's SMILES string is O=C(NCc1nccnc1)C(Cc1cc2cc(ccc2nc1N)-c1ccccc1C)C, and its prediction given by the GNN model is False with predicted probability 0.5562. The molecule is a member of the class of cyclopropanes carrying amino, methyl and 1,2,4-triazol-1-yl substituents at positions 1, 4 and 5 respectively. Used to control a range of seed diseases in rice, vegetables and other, mainly non-food, crops. It has a role as an EC 1.14.13.70 (sterol 14alpha-demethylase) inhibitor and an antifungal agrochemical. It is a member of cyclopropanes, a member of triazoles, a tertiary amino compound, a secondary amino compound and an amino acid amide. Provide corrected prediction.\"},\n",
       " {'role': 'assistant', 'content': 'Prediction: True.'},\n",
       " {'role': 'user',\n",
       "  'content': \"The molecule-516's SMILES string is O=C1N(CCC1)C(C)(C)C1CC(CCC1)C(=O)NC(Cc1ccccc1)C(O)C[NH2+]Cc1cc(ccc1)C(C)C, and its prediction given by the GNN model is True with predicted probability 0.5973. The molecule is an ammonium ion resulting from the protonation of the tertiary amino group of azumolene. It is a conjugate acid of an azumolene. Provide corrected prediction.\"},\n",
       " {'role': 'assistant', 'content': 'Prediction: True.'},\n",
       " {'role': 'user',\n",
       "  'content': \"The molecule-101's SMILES string is S(=O)(=O)(C(CCC)CCC)C[C@@H](NC(OCc1ccccc1)=O)C(=O)N[C@H]([C@H](O)C[NH2+]Cc1cc(OC)ccc1)Cc1ccccc1, and its prediction given by the GNN model is True with predicted probability 0.9729. The molecule is an organic cation obtained by protonation of the isoquinoline and secondary amino functions of N-[(2,3-dihydro-1,4-benzothiazol-2-yl)methyl]-N-(2,3-dihydro-1,4-benzothiazol-2-yl)-L-methionine. It is an ammonium ion derivative and an organic cation. It is a conjugate acid of a N-[(2,3-dihydro-1,4-benzothiazol-2-yl)methyl]-N-(2,3-dihydro-1,4-benzothiazol-2-yl)-L-methionine. Provide corrected prediction and insightful explanations. Answer this question in the format: Prediction: <True or False>; Explanation: <text>.\"}]"
      ]
     },
     "execution_count": 5,
     "metadata": {},
     "output_type": "execute_result"
    }
   ],
   "source": [
    "message_list[0]"
   ]
  },
  {
   "cell_type": "code",
   "execution_count": 5,
   "id": "a3ecd71920061059",
   "metadata": {
    "ExecuteTime": {
     "end_time": "2024-01-26T14:48:41.339599Z",
     "start_time": "2024-01-26T14:48:41.335126Z"
    },
    "collapsed": false
   },
   "outputs": [],
   "source": []
  },
  {
   "cell_type": "code",
   "execution_count": 6,
   "id": "7039d1726abe7dcb",
   "metadata": {
    "ExecuteTime": {
     "end_time": "2024-01-26T14:49:16.984260Z",
     "start_time": "2024-01-26T14:48:41.337475Z"
    },
    "collapsed": false
   },
   "outputs": [
    {
     "name": "stderr",
     "output_type": "stream",
     "text": [
      "Query ogbg-molbace gpt-3.5-turbo-1106:  10%|█         | 1/10 [00:00<00:03,  2.53it/s]"
     ]
    },
    {
     "name": "stdout",
     "output_type": "stream",
     "text": [
      "Created directory /home/zhiqiang/LLMaGML/output/chat_completion/ogbg-molbace/cache_chat_completion/CorrFSC-30-gin-v-42/\n",
      "Created directory /home/zhiqiang/LLMaGML/output/response/ogbg-molbace/cache_response/CorrFSC-30-gin-v-42/\n"
     ]
    },
    {
     "name": "stderr",
     "output_type": "stream",
     "text": [
      "Query ogbg-molbace gpt-3.5-turbo-1106: 100%|██████████| 10/10 [00:35<00:00,  3.57s/it]\n"
     ]
    }
   ],
   "source": [
    "# Save all queries\n",
    "chat_completion_list = []\n",
    "response_list = []\n",
    "\n",
    "# Run batch queries\n",
    "batch_message_list = []\n",
    "batch_message_token_num = 0\n",
    "batch_start_id = 0\n",
    "display = \"Query {} {}\".format(cfg.dataset, cfg.llm.model.name)\n",
    "for message_id, message in enumerate(tqdm(message_list, desc=display)):\n",
    "\n",
    "    num_tokens = num_tokens_from_messages(\n",
    "        messages=message, original_model=cfg.llm.model.name\n",
    "    )\n",
    "    if num_tokens > tpm_limit:\n",
    "        sys.exit(\"Message token number is large than limit {}.\".format(tpm_limit))\n",
    "    if num_tokens >= cws_limit:\n",
    "        print(\"Message context length is {}, larger than Context Window Size limit {}.\".format(\n",
    "            num_tokens, cws_limit\n",
    "        ))\n",
    "        print(\"Reducing message...\")\n",
    "        instruction, knowledge, question = message[0], message[1:-1], message[-1]\n",
    "        \n",
    "        while num_tokens >= cws_limit:\n",
    "            knowledge = knowledge[:-1]\n",
    "            message = [instruction] + knowledge + [question]\n",
    "            num_tokens = num_tokens_from_messages(\n",
    "                messages=message, original_model=cfg.llm.model.name\n",
    "            )\n",
    "        print(\"Message token number is reduced to {}.\".format(num_tokens))\n",
    "    batch_message_token_num += num_tokens\n",
    "\n",
    "    if (batch_message_token_num >= tpm_limit) and (message_id < len(message_list) - 1):\n",
    "\n",
    "        batch_chat_completion_list, batch_response_list = query_chatgpt_batch(\n",
    "            client=client, dataset_name=cfg.dataset,\n",
    "            llm_model=cfg.llm.model.name, template=cfg.llm.template,\n",
    "            gnn_model=cfg.gnn.model.name, seed=cfg.seed,\n",
    "            batch_message_list=batch_message_list, batch_start_id=batch_start_id,\n",
    "            rpm_limit=rpm_limit\n",
    "        )\n",
    "        chat_completion_list += batch_chat_completion_list\n",
    "        response_list += batch_response_list\n",
    "        batch_message_list = [message]\n",
    "        batch_message_token_num = num_tokens_from_messages(\n",
    "            messages=message, original_model=cfg.llm.model.name\n",
    "        )\n",
    "        batch_start_id = message_id\n",
    "\n",
    "    elif message_id == len(message_list) - 1:\n",
    "        batch_message_list.append(message)\n",
    "\n",
    "        batch_chat_completion_list, batch_response_list = query_chatgpt_batch(\n",
    "            client=client, dataset_name=cfg.dataset,\n",
    "            llm_model=cfg.llm.model.name, template=cfg.llm.template,\n",
    "            gnn_model=cfg.gnn.model.name, seed=cfg.seed,\n",
    "            batch_message_list=batch_message_list, batch_start_id=batch_start_id,\n",
    "            rpm_limit=rpm_limit\n",
    "        )\n",
    "        chat_completion_list += batch_chat_completion_list\n",
    "        response_list += batch_response_list\n",
    "\n",
    "    else:\n",
    "        batch_message_list.append(message)\n",
    "        \n",
    "# Save all chat completion\n",
    "save_chatcompletion(\n",
    "    dataset_name=cfg.dataset, chat_completion=chat_completion_list,\n",
    "    gnn_model=cfg.gnn.model.name, seed=cfg.seed,\n",
    "    template=cfg.llm.template, demo_test=cfg.demo_test\n",
    ")\n",
    "# Save all responses\n",
    "save_response(\n",
    "    dataset_name=cfg.dataset, list_response=response_list,\n",
    "    gnn_model=cfg.gnn.model.name, seed=cfg.seed,\n",
    "    template=cfg.llm.template, demo_test=cfg.demo_test\n",
    ")\n",
    "# Clean all cache files\n",
    "clean_cache_chat_completion_response(\n",
    "    dataset_name=cfg.dataset, template=cfg.llm.template,\n",
    "    gnn_model=cfg.gnn.model.name, seed=cfg.seed,\n",
    ")"
   ]
  },
  {
   "cell_type": "code",
   "execution_count": 7,
   "id": "dbf4ab0fc890dfb5",
   "metadata": {
    "ExecuteTime": {
     "end_time": "2024-01-26T14:49:16.985115Z",
     "start_time": "2024-01-26T14:49:16.983906Z"
    },
    "collapsed": false
   },
   "outputs": [
    {
     "name": "stdout",
     "output_type": "stream",
     "text": [
      "Response: Prediction: False; \n",
      "Explanation: The provided SMILES string is not matching with the description of N-[(2,3-dihydro-1,4-benzothiazol-2-yl)methyl]-N-(2,3-dihydro-1,4-benzothiazol-2-yl)-L-methionine, so the given prediction is not applicable.\n",
      "\n",
      "0 Molecule ID: 101; Prediction: 0.9729; Label: 0.\n",
      "\n",
      "Response: Prediction: False; Explanation: The correct prediction of the molecule-102 is False with a predicted probability of 0.9927. Although the provided SMILES string belongs to amorolfine, an antifungal medication that is typically used topically for the treatment of onychomycosis, the predicted label seems to be incorrect based on the context provided. Therefore, it's essential to revisit and verify the prediction considering the presented information regarding the role and nature of the molecule.\n",
      "1 Molecule ID: 102; Prediction: 0.9927; Label: 0.\n",
      "\n",
      "Response: Prediction: True; Explanation: The molecule exhibits anti-HIV-1 activity and is a cyclodepsipeptide derivative, indicating potential medicinal properties related to its structure and function. Given its significant role in anti-HIV-1 activity, the corrected prediction aligns with the molecule's potential pharmaceutical utility.\n",
      "2 Molecule ID: 103; Prediction: 0.9999; Label: 0.\n",
      "\n",
      "Response: Prediction: True; \n",
      "Explanation: The given molecule does not appear to possess structural features or functional groups that indicate an interaction with the human β-secretase 1(BACE-1) enzyme. The presence of a cyclohexane with a single amino substituent does not inherently suggest an inhibitory effect on BACE-1. Therefore, based on its structure and known functional groups, it is more likely that this molecule does not inhibit BACE-1.\n",
      "3 Molecule ID: 201; Prediction: 0.2007; Label: 0.\n",
      "\n",
      "Response: Prediction: True; Explanation: The molecule's structure and the protonation of the secondary amino group of sotalol indicate its potential to inhibit human β-secretase 1 (BACE-1), aligning with the true prediction.\n",
      "4 Molecule ID: 202; Prediction: 0.0380; Label: 0.\n",
      "\n",
      "Response: Prediction: False; Explanation: Despite being a pyrroloindole compound, the GNN model's false prediction may indicate a limitation in the model's training data or the need for additional features to accurately assess the molecule's properties related to the inhibition of human β-secretase 1 (BACE-1). Further model validation and possibly feature engineering might be necessary to improve the accuracy of predictions for this type of molecule.\n",
      "5 Molecule ID: 0; Prediction: 0.0321; Label: 1.\n",
      "\n",
      "Response: Prediction: True; Explanation: The provided SMILES string corresponds to a molecule that is an organic cation obtained by protonation of the secondary amino function of rolapitant, supporting the True prediction made by the GNN model.\n",
      "6 Molecule ID: 1; Prediction: 0.9987; Label: 1.\n",
      "\n",
      "Response: Prediction: True;\n",
      "Explanation: The organic cation derived from the protonation of the secondary amino function of rolapitant is predicted to inhibit human β-secretase 1 according to the GNN model with a high probability, suggesting a potential pharmacological activity for this compound.\n",
      "7 Molecule ID: 6; Prediction: 0.9998; Label: 1.\n",
      "\n",
      "Response: Prediction: True; Explanation: The given molecule with its structure and functional groups is likely to exhibit properties that align with being an inhibitor of deoxyhypusine synthase activity and an antineoplastic agent, therefore suggesting the corrected prediction as true.\n",
      "8 Molecule ID: 239; Prediction: 0.0104; Label: 1.\n",
      "\n",
      "Response: Prediction: True; \n",
      "Explanation: The molecule falls into the category of non-steroidal anti-inflammatory drugs and has potential therapeutic applications, indicating it might be a true inhibitor.\n",
      "9 Molecule ID: 240; Prediction: 0.0012; Label: 1.\n"
     ]
    }
   ],
   "source": [
    "for id, (index, response) in enumerate(zip(demo_list, response_list)):\n",
    "    pred, label = predictions[index], labels[index]\n",
    "    print(\"Response: {}\".format(response))\n",
    "    print(\"{} Molecule ID: {}; Prediction: {:.4f}; Label: {}.\\n\".format(id, index, pred, label))"
   ]
  },
  {
   "cell_type": "code",
   "execution_count": 7,
   "id": "67127413eaacdb58",
   "metadata": {
    "ExecuteTime": {
     "end_time": "2024-01-26T14:49:16.985337Z",
     "start_time": "2024-01-26T14:49:16.984195Z"
    },
    "collapsed": false
   },
   "outputs": [],
   "source": []
  }
 ],
 "metadata": {
  "kernelspec": {
   "display_name": "Python 3",
   "language": "python",
   "name": "python3"
  },
  "language_info": {
   "codemirror_mode": {
    "name": "ipython",
    "version": 2
   },
   "file_extension": ".py",
   "mimetype": "text/x-python",
   "name": "python",
   "nbconvert_exporter": "python",
   "pygments_lexer": "ipython2",
   "version": "2.7.6"
  }
 },
 "nbformat": 4,
 "nbformat_minor": 5
}
