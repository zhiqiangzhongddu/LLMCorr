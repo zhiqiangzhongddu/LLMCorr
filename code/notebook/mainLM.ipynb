{
 "cells": [
  {
   "cell_type": "code",
   "execution_count": 6,
   "id": "8780c14f361caa4",
   "metadata": {
    "ExecuteTime": {
     "end_time": "2023-12-20T11:37:27.668981Z",
     "start_time": "2023-12-20T11:37:27.375080Z"
    },
    "collapsed": false
   },
   "outputs": [],
   "source": [
    "import pandas as pd\n",
    "from pathlib import PurePath\n",
    "import code.utils"
   ]
  },
  {
   "cell_type": "code",
   "execution_count": 13,
   "id": "85383412336c12db",
   "metadata": {
    "ExecuteTime": {
     "end_time": "2023-12-20T11:39:16.505457Z",
     "start_time": "2023-12-20T11:39:16.498293Z"
    },
    "collapsed": false
   },
   "outputs": [],
   "source": [
    "name=\"ogbg-molhiv\"\n",
    "load_raw_text=False \n",
    "load_llm_text=False\n",
    "llm_model='Llama-2-13b'\n",
    "llm_template='IF'\n",
    "fs=0"
   ]
  },
  {
   "cell_type": "code",
   "execution_count": 15,
   "id": "2d40708a796c1a01",
   "metadata": {
    "ExecuteTime": {
     "end_time": "2023-12-20T11:39:28.365980Z",
     "start_time": "2023-12-20T11:39:27.102443Z"
    },
    "collapsed": false
   },
   "outputs": [],
   "source": [
    "df = pd.read_csv(\n",
    "    filepath_or_buffer=PurePath(code.utils.project_root_path, \"input\", \"answer\", \"{}_{}_{}.csv\".format(name, llm_template, llm_model))\n",
    ")"
   ]
  },
  {
   "cell_type": "code",
   "execution_count": 16,
   "id": "389ab421132b6684",
   "metadata": {
    "ExecuteTime": {
     "end_time": "2023-12-20T11:39:29.528066Z",
     "start_time": "2023-12-20T11:39:29.484362Z"
    },
    "collapsed": false
   },
   "outputs": [
    {
     "data": {
      "text/html": [
       "<div>\n",
       "<style scoped>\n",
       "    .dataframe tbody tr th:only-of-type {\n",
       "        vertical-align: middle;\n",
       "    }\n",
       "\n",
       "    .dataframe tbody tr th {\n",
       "        vertical-align: top;\n",
       "    }\n",
       "\n",
       "    .dataframe thead th {\n",
       "        text-align: right;\n",
       "    }\n",
       "</style>\n",
       "<table border=\"1\" class=\"dataframe\">\n",
       "  <thead>\n",
       "    <tr style=\"text-align: right;\">\n",
       "      <th></th>\n",
       "      <th>id</th>\n",
       "      <th>prompt</th>\n",
       "      <th>answer</th>\n",
       "    </tr>\n",
       "  </thead>\n",
       "  <tbody>\n",
       "    <tr>\n",
       "      <th>0</th>\n",
       "      <td>0</td>\n",
       "      <td>SMILES string of target molecule: CCC1=[O+][Cu...</td>\n",
       "      <td>The provided SMILES string represents a coppe...</td>\n",
       "    </tr>\n",
       "    <tr>\n",
       "      <th>1</th>\n",
       "      <td>1</td>\n",
       "      <td>SMILES string of target molecule: C(=Cc1ccccc1...</td>\n",
       "      <td>Based on the SMILES string, the molecule appe...</td>\n",
       "    </tr>\n",
       "    <tr>\n",
       "      <th>2</th>\n",
       "      <td>2</td>\n",
       "      <td>SMILES string of target molecule: CC(=O)N1c2cc...</td>\n",
       "      <td>Based on the provided SMILES string, the mole...</td>\n",
       "    </tr>\n",
       "    <tr>\n",
       "      <th>3</th>\n",
       "      <td>3</td>\n",
       "      <td>SMILES string of target molecule: Nc1ccc(C=Cc2...</td>\n",
       "      <td>Based on the provided SMILES string, the mole...</td>\n",
       "    </tr>\n",
       "    <tr>\n",
       "      <th>4</th>\n",
       "      <td>4</td>\n",
       "      <td>SMILES string of target molecule: O=S(=O)(O)CC...</td>\n",
       "      <td>Based on the given SMILES string, the molecul...</td>\n",
       "    </tr>\n",
       "    <tr>\n",
       "      <th>...</th>\n",
       "      <td>...</td>\n",
       "      <td>...</td>\n",
       "      <td>...</td>\n",
       "    </tr>\n",
       "    <tr>\n",
       "      <th>41122</th>\n",
       "      <td>41122</td>\n",
       "      <td>SMILES string of target molecule: CCC1CCC2c3c(...</td>\n",
       "      <td>Based on the molecular structure of the targe...</td>\n",
       "    </tr>\n",
       "    <tr>\n",
       "      <th>41123</th>\n",
       "      <td>41123</td>\n",
       "      <td>SMILES string of target molecule: Cc1ccc2[nH]c...</td>\n",
       "      <td>This molecule is a non-peptidic compound that...</td>\n",
       "    </tr>\n",
       "    <tr>\n",
       "      <th>41124</th>\n",
       "      <td>41124</td>\n",
       "      <td>SMILES string of target molecule: Cc1ccc(N2C(=...</td>\n",
       "      <td>Based on the provided SMILES string, the mole...</td>\n",
       "    </tr>\n",
       "    <tr>\n",
       "      <th>41125</th>\n",
       "      <td>41125</td>\n",
       "      <td>SMILES string of target molecule: Cc1cccc(N2C(...</td>\n",
       "      <td>Based on the SMILES string provided, the mole...</td>\n",
       "    </tr>\n",
       "    <tr>\n",
       "      <th>41126</th>\n",
       "      <td>41126</td>\n",
       "      <td>SMILES string of target molecule: CCCCCC=C(c1c...</td>\n",
       "      <td>Based on the provided SMILES string, the mole...</td>\n",
       "    </tr>\n",
       "  </tbody>\n",
       "</table>\n",
       "<p>41127 rows × 3 columns</p>\n",
       "</div>"
      ],
      "text/plain": [
       "          id                                             prompt  \\\n",
       "0          0  SMILES string of target molecule: CCC1=[O+][Cu...   \n",
       "1          1  SMILES string of target molecule: C(=Cc1ccccc1...   \n",
       "2          2  SMILES string of target molecule: CC(=O)N1c2cc...   \n",
       "3          3  SMILES string of target molecule: Nc1ccc(C=Cc2...   \n",
       "4          4  SMILES string of target molecule: O=S(=O)(O)CC...   \n",
       "...      ...                                                ...   \n",
       "41122  41122  SMILES string of target molecule: CCC1CCC2c3c(...   \n",
       "41123  41123  SMILES string of target molecule: Cc1ccc2[nH]c...   \n",
       "41124  41124  SMILES string of target molecule: Cc1ccc(N2C(=...   \n",
       "41125  41125  SMILES string of target molecule: Cc1cccc(N2C(...   \n",
       "41126  41126  SMILES string of target molecule: CCCCCC=C(c1c...   \n",
       "\n",
       "                                                  answer  \n",
       "0       The provided SMILES string represents a coppe...  \n",
       "1       Based on the SMILES string, the molecule appe...  \n",
       "2       Based on the provided SMILES string, the mole...  \n",
       "3       Based on the provided SMILES string, the mole...  \n",
       "4       Based on the given SMILES string, the molecul...  \n",
       "...                                                  ...  \n",
       "41122   Based on the molecular structure of the targe...  \n",
       "41123   This molecule is a non-peptidic compound that...  \n",
       "41124   Based on the provided SMILES string, the mole...  \n",
       "41125   Based on the SMILES string provided, the mole...  \n",
       "41126   Based on the provided SMILES string, the mole...  \n",
       "\n",
       "[41127 rows x 3 columns]"
      ]
     },
     "execution_count": 16,
     "metadata": {},
     "output_type": "execute_result"
    }
   ],
   "source": [
    "df"
   ]
  },
  {
   "cell_type": "code",
   "execution_count": null,
   "id": "4b1d3f95c2969735",
   "metadata": {
    "collapsed": false
   },
   "outputs": [],
   "source": []
  }
 ],
 "metadata": {
  "kernelspec": {
   "display_name": "Python 3",
   "language": "python",
   "name": "python3"
  },
  "language_info": {
   "codemirror_mode": {
    "name": "ipython",
    "version": 2
   },
   "file_extension": ".py",
   "mimetype": "text/x-python",
   "name": "python",
   "nbconvert_exporter": "python",
   "pygments_lexer": "ipython2",
   "version": "2.7.6"
  }
 },
 "nbformat": 4,
 "nbformat_minor": 5
}
