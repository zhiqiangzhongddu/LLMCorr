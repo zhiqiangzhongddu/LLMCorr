{
 "cells": [
  {
   "cell_type": "code",
   "execution_count": 2,
   "id": "initial_id",
   "metadata": {
    "collapsed": true,
    "ExecuteTime": {
     "end_time": "2024-03-13T08:36:11.533987Z",
     "start_time": "2024-03-13T08:36:08.832847Z"
    }
   },
   "outputs": [],
   "source": [
    "import json\n",
    "from tqdm import tqdm\n",
    "\n",
    "from transformers import T5Tokenizer, T5ForConditionalGeneration\n",
    "\n",
    "from code.config import cfg\n",
    "from code.utils import set_seed, init_path\n",
    "import code.utils\n",
    "from code.data_utils.dataset import DatasetLoader\n",
    "\n",
    "import warnings\n",
    "warnings.filterwarnings('ignore')"
   ]
  },
  {
   "cell_type": "code",
   "execution_count": 3,
   "id": "da363cadad1b2674",
   "metadata": {
    "collapsed": false,
    "ExecuteTime": {
     "end_time": "2024-03-13T08:36:15.495342Z",
     "start_time": "2024-03-13T08:36:15.453832Z"
    }
   },
   "outputs": [],
   "source": [
    "set_seed(cfg.seed)\n",
    "\n",
    "cfg.dataset = \"ogbg-molbace\" # ogbg-molhiv\n",
    "cfg.demo_test = True\n",
    "cfg.device = 0\n",
    "\n",
    "if cfg.demo_test:\n",
    "    caption_file_name = \"%s/input/caption/test_smiles2caption_%s.json\" % (code.utils.project_root_path, cfg.dataset)\n",
    "else:\n",
    "    caption_file_name = \"%s/input/caption/smiles2caption_%s.json\" % (code.utils.project_root_path, cfg.dataset)"
   ]
  },
  {
   "cell_type": "code",
   "execution_count": 3,
   "id": "1609c92a44c34067",
   "metadata": {
    "ExecuteTime": {
     "end_time": "2023-12-20T15:36:38.724163Z",
     "start_time": "2023-12-20T15:36:38.705275Z"
    },
    "collapsed": false
   },
   "outputs": [],
   "source": [
    "dataloader = DatasetLoader(name=cfg.dataset, text='raw')\n",
    "text = dataloader.text\n",
    "if cfg.demo_test:\n",
    "    text = text[:10]"
   ]
  },
  {
   "cell_type": "code",
   "execution_count": 4,
   "id": "fbbd0040f50a87f4",
   "metadata": {
    "collapsed": false,
    "ExecuteTime": {
     "end_time": "2024-03-13T08:36:26.068338Z",
     "start_time": "2024-03-13T08:36:20.053889Z"
    }
   },
   "outputs": [
    {
     "name": "stderr",
     "output_type": "stream",
     "text": [
      "You are using the default legacy behaviour of the <class 'transformers.models.t5.tokenization_t5.T5Tokenizer'>. This is expected, and simply means that the `legacy` (previous) behavior will be used so nothing changes for you. If you want to use the new behaviour, set `legacy=False`. This should only be set if you understand what it means, and thouroughly read the reason why this was added as explained in https://github.com/huggingface/transformers/pull/24565\n",
      "Special tokens have been added in the vocabulary, make sure the associated word embeddings are fine-tuned or trained.\n"
     ]
    }
   ],
   "source": [
    "tokenizer = T5Tokenizer.from_pretrained(\n",
    "    \"laituan245/molt5-large-smiles2caption\", \n",
    "    model_max_length=512,\n",
    ")\n",
    "model = T5ForConditionalGeneration.from_pretrained(\n",
    "    'laituan245/molt5-large-smiles2caption'\n",
    ").to(cfg.device)"
   ]
  },
  {
   "cell_type": "code",
   "execution_count": 4,
   "id": "f11bfd7c316c690b",
   "metadata": {
    "ExecuteTime": {
     "end_time": "2023-12-20T15:36:48.064738Z",
     "start_time": "2023-12-20T15:36:48.057063Z"
    },
    "collapsed": false
   },
   "outputs": [],
   "source": []
  },
  {
   "cell_type": "code",
   "execution_count": 5,
   "id": "8324bf6ae938ee9b",
   "metadata": {
    "ExecuteTime": {
     "end_time": "2023-12-20T15:37:16.328054Z",
     "start_time": "2023-12-20T15:36:48.407473Z"
    },
    "collapsed": false
   },
   "outputs": [
    {
     "name": "stderr",
     "output_type": "stream",
     "text": [
      "100%|██████████| 10/10 [00:27<00:00,  2.79s/it]\n"
     ]
    }
   ],
   "source": [
    "list_caption = []\n",
    "for smiles in tqdm(text):\n",
    "    input_ids = tokenizer(smiles, return_tensors=\"pt\").input_ids.to(cfg.device)\n",
    "\n",
    "    outputs = model.generate(input_ids, num_beams=5, max_length=512)\n",
    "    # print(tokenizer.decode(outputs[0], skip_special_tokens=True))\n",
    "    list_caption.append(tokenizer.decode(outputs[0], skip_special_tokens=True))"
   ]
  },
  {
   "cell_type": "code",
   "execution_count": 5,
   "id": "28f42b755f5af7bc",
   "metadata": {
    "ExecuteTime": {
     "end_time": "2023-12-20T15:37:22.486139Z",
     "start_time": "2023-12-20T15:37:22.479079Z"
    },
    "collapsed": false
   },
   "outputs": [],
   "source": []
  },
  {
   "cell_type": "code",
   "execution_count": 6,
   "id": "eadcac84b91626a6",
   "metadata": {
    "ExecuteTime": {
     "end_time": "2023-12-20T15:37:22.876262Z",
     "start_time": "2023-12-20T15:37:22.869848Z"
    },
    "collapsed": false
   },
   "outputs": [],
   "source": [
    "init_path(dir_or_file=caption_file_name)\n",
    "with open(caption_file_name, 'w') as file:\n",
    "    json.dump(list_caption, file, indent=2)"
   ]
  },
  {
   "cell_type": "code",
   "execution_count": null,
   "id": "cd523e55d10f12d8",
   "metadata": {
    "collapsed": false
   },
   "outputs": [],
   "source": []
  },
  {
   "cell_type": "code",
   "execution_count": null,
   "id": "ed17733f25187560",
   "metadata": {
    "collapsed": false
   },
   "outputs": [],
   "source": []
  }
 ],
 "metadata": {
  "kernelspec": {
   "display_name": "Python 3",
   "language": "python",
   "name": "python3"
  },
  "language_info": {
   "codemirror_mode": {
    "name": "ipython",
    "version": 2
   },
   "file_extension": ".py",
   "mimetype": "text/x-python",
   "name": "python",
   "nbconvert_exporter": "python",
   "pygments_lexer": "ipython2",
   "version": "2.7.6"
  }
 },
 "nbformat": 4,
 "nbformat_minor": 5
}
