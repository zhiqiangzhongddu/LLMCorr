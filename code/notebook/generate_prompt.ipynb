{
 "cells": [
  {
   "cell_type": "code",
   "execution_count": 1,
   "outputs": [],
   "source": [
    "import numpy as np\n",
    "import pandas as pd\n",
    "import torch\n",
    "from pathlib import Path, PurePath\n",
    "\n",
    "from code.data_utils import DatasetLoader\n",
    "from code.prompt_template import molhiv_prompt_template, molbace_prompt_template\n",
    "from code.config import cfg, update_cfg\n",
    "from code.utils import set_seed\n",
    "from code.generate_caption import load_caption\n",
    "from code.generate_prompt import save_prompt, generate_fs_prompt, generate_fsc_prompt\n",
    "\n",
    "import warnings\n",
    "warnings.filterwarnings('ignore')"
   ],
   "metadata": {
    "collapsed": false,
    "ExecuteTime": {
     "end_time": "2023-12-22T12:07:44.884429Z",
     "start_time": "2023-12-22T12:07:42.355064Z"
    }
   },
   "id": "3d097936c89d6e8d"
  },
  {
   "cell_type": "code",
   "execution_count": 2,
   "outputs": [],
   "source": [
    "# load cfg\n",
    "# cfg = update_cfg(cfg)\n",
    "set_seed(cfg.seed)\n",
    "\n",
    "# manual cfg settings\n",
    "cfg.dataset = \"ogbg-molbace\" # ogbg-molhiv"
   ],
   "metadata": {
    "collapsed": false,
    "ExecuteTime": {
     "end_time": "2023-12-22T12:07:44.884917Z",
     "start_time": "2023-12-22T12:07:44.461916Z"
    }
   },
   "id": "3d63c82cfe39043c"
  },
  {
   "cell_type": "code",
   "execution_count": 2,
   "outputs": [],
   "source": [],
   "metadata": {
    "collapsed": false,
    "ExecuteTime": {
     "end_time": "2023-12-22T12:07:44.885239Z",
     "start_time": "2023-12-22T12:07:44.465478Z"
    }
   },
   "id": "d5dda8785811ecce"
  },
  {
   "cell_type": "code",
   "execution_count": 3,
   "outputs": [],
   "source": [
    "# Preprocess data\n",
    "dataloader = DatasetLoader(name=cfg.dataset, text='raw')\n",
    "dataset, smiles = dataloader.dataset, dataloader.text\n",
    "\n",
    "caption = load_caption(dataset_name=cfg.dataset)\n",
    "\n",
    "split_idx = dataset.get_idx_split()\n",
    "index_pos = np.intersect1d(split_idx['train'], torch.where(dataset.y == 1)[0])\n",
    "index_neg = np.intersect1d(split_idx['train'], torch.where(dataset.y == 0)[0])\n",
    "\n",
    "if cfg.dataset == \"ogbg-molhiv\":\n",
    "    template_set = molhiv_prompt_template\n",
    "elif cfg.dataset == \"ogbg-molbace\":\n",
    "    template_set = molbace_prompt_template\n",
    "else:\n",
    "    raise ValueError(\"Invalid Dataset Name to find Prompt Set.\")"
   ],
   "metadata": {
    "collapsed": false,
    "ExecuteTime": {
     "end_time": "2023-12-22T12:07:44.889053Z",
     "start_time": "2023-12-22T12:07:44.471705Z"
    }
   },
   "id": "453f60ad945aa152"
  },
  {
   "cell_type": "code",
   "execution_count": 3,
   "outputs": [],
   "source": [],
   "metadata": {
    "collapsed": false,
    "ExecuteTime": {
     "end_time": "2023-12-22T12:07:44.889364Z",
     "start_time": "2023-12-22T12:07:44.492757Z"
    }
   },
   "id": "3f6380a4cfb5bd3e"
  },
  {
   "cell_type": "code",
   "execution_count": 4,
   "outputs": [],
   "source": [
    "prompt_type = \"IF\"\n",
    "template = template_set[prompt_type]\n",
    "list_prompt = [template.format(s) for s in smiles]\n",
    "\n",
    "save_prompt(dataset_name=cfg.dataset, list_prompt=list_prompt, prompt_type=prompt_type)"
   ],
   "metadata": {
    "collapsed": false,
    "ExecuteTime": {
     "end_time": "2023-12-22T12:07:44.919870Z",
     "start_time": "2023-12-22T12:07:44.902646Z"
    }
   },
   "id": "b25081dc83fdea88"
  },
  {
   "cell_type": "code",
   "execution_count": 6,
   "outputs": [],
   "source": [],
   "metadata": {
    "collapsed": false,
    "ExecuteTime": {
     "end_time": "2023-10-27T21:21:26.742325Z",
     "start_time": "2023-10-27T21:21:26.736829Z"
    }
   },
   "id": "c74754f45fd19d50"
  },
  {
   "cell_type": "code",
   "execution_count": 9,
   "outputs": [],
   "source": [
    "prompt_type = \"IFC\"\n",
    "template = template_set[prompt_type]\n",
    "for s, c in zip(smiles, caption):\n",
    "    list_prompt.append(template.format(s, c))\n",
    "\n",
    "save_prompt(dataset_name=cfg.dataset, list_prompt=list_prompt, prompt_type=prompt_type)"
   ],
   "metadata": {
    "collapsed": false,
    "ExecuteTime": {
     "end_time": "2023-12-21T10:26:41.732401Z",
     "start_time": "2023-12-21T10:26:41.728111Z"
    }
   },
   "id": "b389aed3e8157f83"
  },
  {
   "cell_type": "code",
   "execution_count": 7,
   "outputs": [],
   "source": [],
   "metadata": {
    "collapsed": false,
    "ExecuteTime": {
     "end_time": "2023-10-27T21:21:27.525530Z",
     "start_time": "2023-10-27T21:21:27.523896Z"
    }
   },
   "id": "b1ec7ffa80026f4a"
  },
  {
   "cell_type": "code",
   "execution_count": 8,
   "outputs": [],
   "source": [
    "prompt_type = \"IP\"\n",
    "template = template_set[prompt_type]\n",
    "list_prompt = [template.format(s) for s in smiles]\n",
    "\n",
    "save_prompt(dataset_name=cfg.dataset, list_prompt=list_prompt, prompt_type=prompt_type)"
   ],
   "metadata": {
    "collapsed": false,
    "ExecuteTime": {
     "end_time": "2023-10-27T21:21:27.779215Z",
     "start_time": "2023-10-27T21:21:27.525984Z"
    }
   },
   "id": "2a52d37332db87cb"
  },
  {
   "cell_type": "code",
   "execution_count": 8,
   "outputs": [],
   "source": [],
   "metadata": {
    "collapsed": false,
    "ExecuteTime": {
     "end_time": "2023-10-27T21:21:27.783649Z",
     "start_time": "2023-10-27T21:21:27.777080Z"
    }
   },
   "id": "537c19253299a0e"
  },
  {
   "cell_type": "code",
   "execution_count": 9,
   "outputs": [],
   "source": [
    "prompt_type = \"IPC\"\n",
    "template = template_set[prompt_type]\n",
    "for s, c in zip(smiles, caption):\n",
    "    list_prompt.append(template.format(s, c))\n",
    "\n",
    "save_prompt(dataset_name=cfg.dataset, list_prompt=list_prompt, prompt_type=prompt_type)"
   ],
   "metadata": {
    "collapsed": false,
    "ExecuteTime": {
     "end_time": "2023-10-27T21:21:28.495976Z",
     "start_time": "2023-10-27T21:21:27.781247Z"
    }
   },
   "id": "dcf0a516b946ff1a"
  },
  {
   "cell_type": "code",
   "execution_count": 9,
   "outputs": [],
   "source": [],
   "metadata": {
    "collapsed": false,
    "ExecuteTime": {
     "end_time": "2023-10-27T21:21:28.500938Z",
     "start_time": "2023-10-27T21:21:28.499489Z"
    }
   },
   "id": "70578aa6f78d4de2"
  },
  {
   "cell_type": "code",
   "execution_count": 10,
   "outputs": [],
   "source": [
    "prompt_type = \"IE\"\n",
    "template = template_set[prompt_type]\n",
    "list_prompt = [template.format(s) for s in smiles]\n",
    "\n",
    "save_prompt(dataset_name=cfg.dataset, list_prompt=list_prompt, prompt_type=prompt_type)"
   ],
   "metadata": {
    "collapsed": false,
    "ExecuteTime": {
     "end_time": "2023-10-27T21:21:28.776111Z",
     "start_time": "2023-10-27T21:21:28.553650Z"
    }
   },
   "id": "59f8f38936cf8ae8"
  },
  {
   "cell_type": "code",
   "execution_count": 10,
   "outputs": [],
   "source": [],
   "metadata": {
    "collapsed": false,
    "ExecuteTime": {
     "end_time": "2023-10-27T21:21:28.776295Z",
     "start_time": "2023-10-27T21:21:28.771583Z"
    }
   },
   "id": "79620d2aa731b0e6"
  },
  {
   "cell_type": "code",
   "execution_count": 11,
   "outputs": [],
   "source": [
    "prompt_type = \"IEC\"\n",
    "template = template_set[prompt_type]\n",
    "for s, c in zip(smiles, caption):\n",
    "    list_prompt.append(template.format(s, c))\n",
    "\n",
    "save_prompt(dataset_name=cfg.dataset, list_prompt=list_prompt, prompt_type=prompt_type)"
   ],
   "metadata": {
    "collapsed": false,
    "ExecuteTime": {
     "end_time": "2023-10-27T21:21:29.628073Z",
     "start_time": "2023-10-27T21:21:28.860708Z"
    }
   },
   "id": "5764696af2227a76"
  },
  {
   "cell_type": "code",
   "execution_count": 11,
   "outputs": [],
   "source": [],
   "metadata": {
    "collapsed": false,
    "ExecuteTime": {
     "end_time": "2023-10-27T21:21:29.628261Z",
     "start_time": "2023-10-27T21:21:29.623933Z"
    }
   },
   "id": "3e2ab80d69b49eb6"
  },
  {
   "cell_type": "code",
   "execution_count": 30,
   "outputs": [],
   "source": [
    "prompt_type = \"FS-1\"\n",
    "fs = int(prompt_type.split('-')[1])\n",
    "template = template_set[prompt_type.split('-')[0]]\n",
    "knowledge_pos_template = template_set[\"FS_knowledge_pos\"]\n",
    "knowledge_neg_template = template_set[\"FS_knowledge_neg\"]\n",
    "\n",
    "list_prompt = []\n",
    "for idx, s in enumerate(smiles):\n",
    "    knowledge = \"\"\n",
    "    _pos = np.random.choice(index_pos, fs)\n",
    "    _neg = np.random.choice(index_neg, fs)\n",
    "    while idx in _pos:\n",
    "        _pos = np.random.choice(index_pos, fs)\n",
    "    while idx in _neg:\n",
    "        _neg = np.random.choice(index_neg, fs)\n",
    "        \n",
    "    for knowledge_id in range(fs):\n",
    "        knowledge += knowledge_pos_template.format(smiles[_pos[knowledge_id]]) + \"\\n\"\n",
    "        if knowledge_id < fs-1:\n",
    "            knowledge += knowledge_neg_template.format(smiles[_neg[knowledge_id]]) + \"\\n\"\n",
    "        else:\n",
    "            knowledge += knowledge_neg_template.format(smiles[_neg[knowledge_id]])\n",
    "        \n",
    "    list_prompt.append(template.format(knowledge, s))\n",
    "\n",
    "save_prompt(dataset_name=cfg.dataset, list_prompt=list_prompt, prompt_type=prompt_type)"
   ],
   "metadata": {
    "collapsed": false,
    "ExecuteTime": {
     "end_time": "2023-12-21T10:53:27.923030Z",
     "start_time": "2023-12-21T10:53:27.880242Z"
    }
   },
   "id": "154f0e8e5810cdf4"
  },
  {
   "cell_type": "code",
   "execution_count": 14,
   "outputs": [],
   "source": [],
   "metadata": {
    "collapsed": false,
    "ExecuteTime": {
     "end_time": "2023-10-27T21:22:43.001154Z",
     "start_time": "2023-10-27T21:22:42.995599Z"
    }
   },
   "id": "b3365dca550a2462"
  },
  {
   "cell_type": "code",
   "execution_count": 26,
   "outputs": [],
   "source": [
    "prompt_type = \"FSC-1\"\n",
    "fs = int(prompt_type.split('-')[1])\n",
    "template = template_set[prompt_type.split('-')[0]]\n",
    "knowledge_pos_template = template_set[\"FSC_knowledge_pos\"]\n",
    "knowledge_neg_template = template_set[\"FSC_knowledge_neg\"]\n",
    "\n",
    "list_prompt = []\n",
    "for idx, (s, c) in enumerate(zip(smiles, caption)):\n",
    "    knowledge = \"\"\n",
    "    _pos = np.random.choice(index_pos, fs)\n",
    "    _neg = np.random.choice(index_neg, fs)\n",
    "    while idx in _pos:\n",
    "        _pos = np.random.choice(index_pos, fs)\n",
    "    while idx in _neg:\n",
    "        _neg = np.random.choice(index_neg, fs)\n",
    "        \n",
    "    for knowledge_id in range(fs):\n",
    "        knowledge += knowledge_pos_template.format(\n",
    "            smiles[_pos[knowledge_id]], caption[_pos[knowledge_id]]\n",
    "        ) + \"\\n\"\n",
    "        if knowledge_id < fs-1:\n",
    "            knowledge += knowledge_neg_template.format(\n",
    "                smiles[_neg[knowledge_id]], caption[_neg[knowledge_id]]\n",
    "            ) + \"\\n\"\n",
    "        else:\n",
    "            knowledge += knowledge_neg_template.format(\n",
    "                smiles[_neg[knowledge_id]], caption[_neg[knowledge_id]]\n",
    "            )\n",
    "        \n",
    "    list_prompt.append(template.format(knowledge, s, c))\n",
    "\n",
    "save_prompt(dataset_name=cfg.dataset, list_prompt=list_prompt, prompt_type=prompt_type)"
   ],
   "metadata": {
    "collapsed": false,
    "ExecuteTime": {
     "end_time": "2023-12-21T10:51:08.366547Z",
     "start_time": "2023-12-21T10:51:08.289260Z"
    }
   },
   "id": "332462d468118245"
  },
  {
   "cell_type": "code",
   "execution_count": 9,
   "outputs": [],
   "source": [],
   "metadata": {
    "collapsed": false,
    "ExecuteTime": {
     "end_time": "2023-12-22T14:47:49.445625Z",
     "start_time": "2023-12-22T14:47:49.438322Z"
    }
   },
   "id": "4ace4ed2aa4688d6"
  },
  {
   "cell_type": "code",
   "execution_count": null,
   "outputs": [],
   "source": [],
   "metadata": {
    "collapsed": false
   },
   "id": "8da9a9ec26e6df16"
  }
 ],
 "metadata": {
  "kernelspec": {
   "display_name": "Python 3",
   "language": "python",
   "name": "python3"
  },
  "language_info": {
   "codemirror_mode": {
    "name": "ipython",
    "version": 2
   },
   "file_extension": ".py",
   "mimetype": "text/x-python",
   "name": "python",
   "nbconvert_exporter": "python",
   "pygments_lexer": "ipython2",
   "version": "2.7.6"
  }
 },
 "nbformat": 4,
 "nbformat_minor": 5
}
