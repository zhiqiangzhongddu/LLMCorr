{
 "cells": [
  {
   "cell_type": "code",
   "execution_count": 1,
   "outputs": [],
   "source": [
    "import numpy as np\n",
    "import copy\n",
    "import torch\n",
    "\n",
    "from code.data_utils.dataset import DatasetLoader\n",
    "from code.data_utils.utils import load_caption, load_description, save_message\n",
    "from code.message_template import molhiv_message_template, molbace_message_template, molbbbp_message_template, molesol_message_template, molfreesolv_message_template, mollipo_message_template\n",
    "from code.config import cfg, update_cfg\n",
    "from code.utils import set_seed\n",
    "from code.generate_message import generate_fs_message_cls, generate_fsd_message_cls, generate_fs_message_reg, generate_fsd_message_reg\n",
    "\n",
    "import warnings\n",
    "warnings.filterwarnings('ignore')"
   ],
   "metadata": {
    "collapsed": false,
    "ExecuteTime": {
     "end_time": "2024-01-05T19:13:38.416642Z",
     "start_time": "2024-01-05T19:13:36.353044Z"
    }
   },
   "id": "3d097936c89d6e8d"
  },
  {
   "cell_type": "code",
   "execution_count": 1,
   "outputs": [],
   "source": [],
   "metadata": {
    "collapsed": false,
    "ExecuteTime": {
     "end_time": "2024-01-05T19:13:38.417764Z",
     "start_time": "2024-01-05T19:13:38.416198Z"
    }
   },
   "id": "a1c31191a8e3a32c"
  },
  {
   "cell_type": "code",
   "execution_count": 2,
   "outputs": [],
   "source": [
    "# load cfg\n",
    "# cfg = update_cfg(cfg)\n",
    "set_seed(cfg.seed)\n",
    "\n",
    "# manual cfg settings\n",
    "cfg.dataset = \"ogbg-molesol\" # ogbg-molhiv\n",
    "cfg.demo_test = True"
   ],
   "metadata": {
    "collapsed": false,
    "ExecuteTime": {
     "end_time": "2024-01-05T19:13:38.443403Z",
     "start_time": "2024-01-05T19:13:38.416445Z"
    }
   },
   "id": "3d63c82cfe39043c"
  },
  {
   "cell_type": "code",
   "execution_count": 2,
   "outputs": [],
   "source": [],
   "metadata": {
    "collapsed": false,
    "ExecuteTime": {
     "end_time": "2024-01-05T19:13:38.479551Z",
     "start_time": "2024-01-05T19:13:38.439044Z"
    }
   },
   "id": "d5dda8785811ecce"
  },
  {
   "cell_type": "code",
   "execution_count": 3,
   "outputs": [],
   "source": [
    "# Preprocess data\n",
    "dataloader = DatasetLoader(name=cfg.dataset, text='raw')\n",
    "dataset, smiles = dataloader.dataset, dataloader.text\n",
    "\n",
    "caption = load_caption(dataset_name=cfg.dataset)\n",
    "description = load_description(dataset_name=cfg.dataset)\n",
    "\n",
    "split_idx = dataset.get_idx_split()\n",
    "index_pos = np.intersect1d(split_idx['train'], torch.where(dataset.y == 1)[0])\n",
    "index_neg = np.intersect1d(split_idx['train'], torch.where(dataset.y == 0)[0])\n",
    "\n",
    "if cfg.dataset == \"ogbg-molhiv\":\n",
    "    template_set = molhiv_message_template\n",
    "elif cfg.dataset == \"ogbg-molbace\":\n",
    "    template_set = molbace_message_template\n",
    "elif cfg.dataset == \"ogbg-molbbbp\":\n",
    "    template_set = molbbbp_message_template\n",
    "elif cfg.dataset == \"ogbg-molesol\":\n",
    "    template_set = molesol_message_template\n",
    "elif cfg.dataset == \"ogbg-molfreesolv\":\n",
    "    template_set = molfreesolv_message_template\n",
    "elif cfg.dataset == \"ogbg-mollipo\":\n",
    "    template_set = mollipo_message_template\n",
    "else:\n",
    "    raise ValueError(\"Invalid Dataset Name to find Message Set.\")"
   ],
   "metadata": {
    "collapsed": false,
    "ExecuteTime": {
     "end_time": "2024-01-05T19:13:38.480295Z",
     "start_time": "2024-01-05T19:13:38.445274Z"
    }
   },
   "id": "453f60ad945aa152"
  },
  {
   "cell_type": "code",
   "execution_count": 3,
   "outputs": [],
   "source": [],
   "metadata": {
    "collapsed": false,
    "ExecuteTime": {
     "end_time": "2024-01-05T19:13:38.480935Z",
     "start_time": "2024-01-05T19:13:38.469585Z"
    }
   },
   "id": "3f6380a4cfb5bd3e"
  },
  {
   "cell_type": "code",
   "execution_count": 4,
   "outputs": [
    {
     "name": "stdout",
     "output_type": "stream",
     "text": [
      "Generating IF\n"
     ]
    }
   ],
   "source": [
    "message_type = \"IF\"\n",
    "print('Generating {}'.format(message_type))\n",
    "template = template_set[message_type]\n",
    "list_message = []\n",
    "for s in smiles:\n",
    "    message = copy.deepcopy(template)\n",
    "    message[1][\"content\"] = message[1][\"content\"].format(s)\n",
    "    list_message.append(message)\n",
    "save_message(\n",
    "    dataset_name=cfg.dataset, list_message=list_message,\n",
    "    message_type=message_type, demo_test=cfg.demo_test\n",
    ")"
   ],
   "metadata": {
    "collapsed": false,
    "ExecuteTime": {
     "end_time": "2024-01-05T19:13:38.682818Z",
     "start_time": "2024-01-05T19:13:38.611317Z"
    }
   },
   "id": "b25081dc83fdea88"
  },
  {
   "cell_type": "code",
   "outputs": [],
   "source": [],
   "metadata": {
    "collapsed": false
   },
   "id": "3c84f687b520e0c9",
   "execution_count": null
  },
  {
   "cell_type": "code",
   "outputs": [],
   "source": [
    "message_type = \"IFD\"\n",
    "print('Generating {}'.format(message_type))\n",
    "template = template_set[message_type]\n",
    "list_message = []\n",
    "for s in smiles:\n",
    "    message = copy.deepcopy(template)\n",
    "    message[1][\"content\"] = message[1][\"content\"].format(s)\n",
    "    list_message.append(message)\n",
    "save_message(\n",
    "    dataset_name=cfg.dataset, list_message=list_message,\n",
    "    message_type=message_type, demo_test=cfg.demo_test\n",
    ")"
   ],
   "metadata": {
    "collapsed": false
   },
   "id": "5ef18f94a84b2b28",
   "execution_count": null
  },
  {
   "cell_type": "code",
   "outputs": [],
   "source": [],
   "metadata": {
    "collapsed": false,
    "ExecuteTime": {
     "end_time": "2024-01-05T19:13:38.684718Z",
     "start_time": "2024-01-05T19:13:38.682404Z"
    }
   },
   "id": "de7350395de2b41f",
   "execution_count": 4
  },
  {
   "cell_type": "code",
   "execution_count": 5,
   "outputs": [
    {
     "name": "stdout",
     "output_type": "stream",
     "text": [
      "Generating IFC\n"
     ]
    }
   ],
   "source": [
    "message_type = \"IFC\"\n",
    "print('Generating {}'.format(message_type))\n",
    "template = template_set[message_type]\n",
    "list_message = []\n",
    "for s, c in zip(smiles, caption):\n",
    "    message = copy.deepcopy(template)\n",
    "    message[1][\"content\"] = message[1][\"content\"].format(s, c)\n",
    "    list_message.append(message)\n",
    "save_message(\n",
    "    dataset_name=cfg.dataset, list_message=list_message,\n",
    "    message_type=message_type, demo_test=cfg.demo_test\n",
    ")"
   ],
   "metadata": {
    "collapsed": false,
    "ExecuteTime": {
     "end_time": "2024-01-05T19:13:38.685556Z",
     "start_time": "2024-01-05T19:13:38.682594Z"
    }
   },
   "id": "f9c97fb4edaecedb"
  },
  {
   "cell_type": "code",
   "execution_count": 5,
   "outputs": [],
   "source": [],
   "metadata": {
    "collapsed": false,
    "ExecuteTime": {
     "end_time": "2024-01-05T19:13:38.686281Z",
     "start_time": "2024-01-05T19:13:38.682746Z"
    }
   },
   "id": "f259e6b537fbd871"
  },
  {
   "cell_type": "code",
   "execution_count": 6,
   "outputs": [
    {
     "name": "stdout",
     "output_type": "stream",
     "text": [
      "Generating IP\n"
     ]
    }
   ],
   "source": [
    "message_type = \"IP\"\n",
    "print('Generating {}'.format(message_type))\n",
    "template = template_set[message_type]\n",
    "list_message = []\n",
    "for s in smiles:\n",
    "    message = copy.deepcopy(template)\n",
    "    message[1][\"content\"] = message[1][\"content\"].format(s)\n",
    "    list_message.append(message)\n",
    "save_message(\n",
    "    dataset_name=cfg.dataset, list_message=list_message,\n",
    "    message_type=message_type, demo_test=cfg.demo_test\n",
    ")"
   ],
   "metadata": {
    "collapsed": false,
    "ExecuteTime": {
     "end_time": "2024-01-05T19:13:38.725781Z",
     "start_time": "2024-01-05T19:13:38.705094Z"
    }
   },
   "id": "25b823a37c75a3a8"
  },
  {
   "cell_type": "code",
   "execution_count": 6,
   "outputs": [],
   "source": [],
   "metadata": {
    "collapsed": false,
    "ExecuteTime": {
     "end_time": "2024-01-05T19:13:38.726314Z",
     "start_time": "2024-01-05T19:13:38.705263Z"
    }
   },
   "id": "1de2ba26fcee302b"
  },
  {
   "cell_type": "code",
   "execution_count": 7,
   "outputs": [
    {
     "name": "stdout",
     "output_type": "stream",
     "text": [
      "Generating IPC\n"
     ]
    }
   ],
   "source": [
    "message_type = \"IPC\"\n",
    "print('Generating {}'.format(message_type))\n",
    "template = template_set[message_type]\n",
    "list_message = []\n",
    "for s, c in zip(smiles, caption):\n",
    "    message = copy.deepcopy(template)\n",
    "    message[1][\"content\"] = message[1][\"content\"].format(s, c)\n",
    "    list_message.append(message)\n",
    "save_message(\n",
    "    dataset_name=cfg.dataset, list_message=list_message,\n",
    "    message_type=message_type, demo_test=cfg.demo_test\n",
    ")"
   ],
   "metadata": {
    "collapsed": false,
    "ExecuteTime": {
     "end_time": "2024-01-05T19:13:38.727001Z",
     "start_time": "2024-01-05T19:13:38.705340Z"
    }
   },
   "id": "2102d74f33b8784c"
  },
  {
   "cell_type": "code",
   "execution_count": 7,
   "outputs": [],
   "source": [],
   "metadata": {
    "collapsed": false,
    "ExecuteTime": {
     "end_time": "2024-01-05T19:13:38.751085Z",
     "start_time": "2024-01-05T19:13:38.724220Z"
    }
   },
   "id": "540b88572ecfa47f"
  },
  {
   "cell_type": "code",
   "execution_count": 8,
   "outputs": [
    {
     "name": "stdout",
     "output_type": "stream",
     "text": [
      "Generating IE\n"
     ]
    }
   ],
   "source": [
    "message_type = \"IE\"\n",
    "print('Generating {}'.format(message_type))\n",
    "template = template_set[message_type]\n",
    "list_message = []\n",
    "for s in smiles:\n",
    "    message = copy.deepcopy(template)\n",
    "    message[1][\"content\"] = message[1][\"content\"].format(s)\n",
    "    list_message.append(message)\n",
    "save_message(\n",
    "    dataset_name=cfg.dataset, list_message=list_message,\n",
    "    message_type=message_type, demo_test=cfg.demo_test\n",
    ")"
   ],
   "metadata": {
    "collapsed": false,
    "ExecuteTime": {
     "end_time": "2024-01-05T19:13:38.751743Z",
     "start_time": "2024-01-05T19:13:38.747019Z"
    }
   },
   "id": "a51566db18156850"
  },
  {
   "cell_type": "code",
   "execution_count": 8,
   "outputs": [],
   "source": [],
   "metadata": {
    "collapsed": false,
    "ExecuteTime": {
     "end_time": "2024-01-05T19:13:38.752152Z",
     "start_time": "2024-01-05T19:13:38.747102Z"
    }
   },
   "id": "1513b12daeb3524a"
  },
  {
   "cell_type": "code",
   "execution_count": 9,
   "outputs": [
    {
     "name": "stdout",
     "output_type": "stream",
     "text": [
      "Generating IEC\n"
     ]
    }
   ],
   "source": [
    "message_type = \"IEC\"\n",
    "print('Generating {}'.format(message_type))\n",
    "template = template_set[message_type]\n",
    "list_message = []\n",
    "for s, c in zip(smiles, caption):\n",
    "    message = copy.deepcopy(template)\n",
    "    message[1][\"content\"] = message[1][\"content\"].format(s, c)\n",
    "    list_message.append(message)\n",
    "save_message(\n",
    "    dataset_name=cfg.dataset, list_message=list_message,\n",
    "    message_type=message_type, demo_test=cfg.demo_test\n",
    ")"
   ],
   "metadata": {
    "collapsed": false,
    "ExecuteTime": {
     "end_time": "2024-01-05T19:13:38.809110Z",
     "start_time": "2024-01-05T19:13:38.747171Z"
    }
   },
   "id": "690c260828dab970"
  },
  {
   "cell_type": "code",
   "execution_count": 9,
   "outputs": [],
   "source": [],
   "metadata": {
    "collapsed": false,
    "ExecuteTime": {
     "end_time": "2024-01-05T19:13:38.809739Z",
     "start_time": "2024-01-05T19:13:38.805703Z"
    }
   },
   "id": "421c65e7c74393b7"
  },
  {
   "cell_type": "code",
   "execution_count": 10,
   "outputs": [
    {
     "name": "stdout",
     "output_type": "stream",
     "text": [
      "Generating FS-1\n"
     ]
    }
   ],
   "source": [
    "message_type = \"FS-1\"\n",
    "print('Generating {}'.format(message_type))\n",
    "if 'classification' in dataset.task_type:\n",
    "    list_message = generate_fs_message_cls(\n",
    "        message_type=message_type, template_set=template_set,\n",
    "        smiles=smiles, index_pos=index_pos, index_neg=index_neg\n",
    "    )\n",
    "else:\n",
    "    list_message = generate_fs_message_reg(\n",
    "        message_type=message_type, template_set=template_set,\n",
    "        smiles=smiles, label=dataset.y\n",
    "    )\n",
    "save_message(\n",
    "    dataset_name=cfg.dataset, list_message=list_message,\n",
    "    message_type=message_type, demo_test=cfg.demo_test\n",
    ")"
   ],
   "metadata": {
    "collapsed": false,
    "ExecuteTime": {
     "end_time": "2024-01-05T19:13:38.914620Z",
     "start_time": "2024-01-05T19:13:38.805801Z"
    }
   },
   "id": "62fc8a25da301905"
  },
  {
   "cell_type": "code",
   "execution_count": 10,
   "outputs": [],
   "source": [],
   "metadata": {
    "collapsed": false,
    "ExecuteTime": {
     "end_time": "2024-01-05T19:13:38.962790Z",
     "start_time": "2024-01-05T19:13:38.925512Z"
    }
   },
   "id": "736cf6acde7aa246"
  },
  {
   "cell_type": "code",
   "execution_count": 11,
   "outputs": [
    {
     "name": "stdout",
     "output_type": "stream",
     "text": [
      "Generating FSC-1\n"
     ]
    }
   ],
   "source": [
    "message_type = \"FSC-1\"\n",
    "print('Generating {}'.format(message_type))\n",
    "if 'classification' in dataset.task_type:\n",
    "    list_message = generate_fsc_message_cls(\n",
    "        message_type=message_type, template_set=template_set,\n",
    "        smiles=smiles, caption=caption, index_pos=index_pos, index_neg=index_neg\n",
    "    )\n",
    "else:\n",
    "    list_message = generate_fsc_message_reg(\n",
    "        message_type=message_type, template_set=template_set,\n",
    "        smiles=smiles, caption=caption, label=dataset.y\n",
    "    )\n",
    "save_message(\n",
    "    dataset_name=cfg.dataset, list_message=list_message,\n",
    "    message_type=message_type, demo_test=cfg.demo_test\n",
    ")"
   ],
   "metadata": {
    "collapsed": false,
    "ExecuteTime": {
     "end_time": "2024-01-05T19:13:39.078753Z",
     "start_time": "2024-01-05T19:13:38.959205Z"
    }
   },
   "id": "fe3ecc550eab21f8"
  },
  {
   "cell_type": "code",
   "execution_count": 11,
   "outputs": [],
   "source": [],
   "metadata": {
    "collapsed": false,
    "ExecuteTime": {
     "end_time": "2024-01-05T19:13:39.162629Z",
     "start_time": "2024-01-05T19:13:39.077398Z"
    }
   },
   "id": "55088649396830c6"
  },
  {
   "cell_type": "code",
   "execution_count": 11,
   "outputs": [],
   "source": [],
   "metadata": {
    "collapsed": false,
    "ExecuteTime": {
     "end_time": "2024-01-05T19:13:39.162870Z",
     "start_time": "2024-01-05T19:13:39.120738Z"
    }
   },
   "id": "6536f0a77aefbc19"
  }
 ],
 "metadata": {
  "kernelspec": {
   "display_name": "Python 3",
   "language": "python",
   "name": "python3"
  },
  "language_info": {
   "codemirror_mode": {
    "name": "ipython",
    "version": 2
   },
   "file_extension": ".py",
   "mimetype": "text/x-python",
   "name": "python",
   "nbconvert_exporter": "python",
   "pygments_lexer": "ipython2",
   "version": "2.7.6"
  }
 },
 "nbformat": 4,
 "nbformat_minor": 5
}
