{
 "cells": [
  {
   "cell_type": "code",
   "execution_count": 1,
   "id": "initial_id",
   "metadata": {
    "collapsed": true,
    "ExecuteTime": {
     "end_time": "2024-01-18T13:11:04.224287Z",
     "start_time": "2024-01-18T13:10:59.242635Z"
    }
   },
   "outputs": [],
   "source": [
    "import numpy as np\n",
    "import torch\n",
    "from ogb.graphproppred import Evaluator\n",
    "from torch_geometric.data import DataLoader\n",
    "\n",
    "from code.config import cfg\n",
    "from code.data_utils.dataset import DatasetLoader\n",
    "from code.data_utils.utils import load_response, load_lm_predictions\n",
    "from code.utils import set_seed, project_root_path\n",
    "from code.notebook.utils import evaluate\n",
    "from code.GNNs.gnn_trainer import GNNTrainer\n",
    "from code.utils import set_seed\n",
    "from code.config import cfg, update_cfg\n",
    "\n",
    "import warnings\n",
    "warnings.filterwarnings('ignore')"
   ]
  },
  {
   "cell_type": "code",
   "execution_count": 2,
   "id": "15068ee8ac0eea13",
   "metadata": {
    "collapsed": false,
    "ExecuteTime": {
     "end_time": "2024-01-18T13:11:04.226856Z",
     "start_time": "2024-01-18T13:11:01.430266Z"
    }
   },
   "outputs": [],
   "source": [
    "set_seed(cfg.seed)\n",
    "cfg.dataset = \"ogbg-molbace\"\n",
    "\n",
    "folder_path = project_root_path\n",
    "\n",
    "# Preprocess data\n",
    "dataloader = DatasetLoader(name=cfg.dataset, text='raw', feature=\"IF\")\n",
    "dataset, smiles = dataloader.dataset, dataloader.text\n",
    "split_idx = dataset.get_idx_split()\n",
    "evaluator = Evaluator(name=cfg.dataset)"
   ]
  },
  {
   "cell_type": "code",
   "outputs": [
    {
     "data": {
      "text/plain": "torch.Size([1513, 2])"
     },
     "execution_count": 3,
     "metadata": {},
     "output_type": "execute_result"
    }
   ],
   "source": [
    "load_lm_predictions(\n",
    "    dataset_name=cfg.dataset, num_graphs=len(dataset), task=dataset.task_type, \n",
    "    template=cfg.data.text,\n",
    "    lm_model_name=cfg.lm.model.name, seed=cfg.seed\n",
    ").shape"
   ],
   "metadata": {
    "collapsed": false,
    "ExecuteTime": {
     "end_time": "2024-01-18T13:11:04.227432Z",
     "start_time": "2024-01-18T13:11:01.663495Z"
    }
   },
   "id": "8a736519fbd21c9b",
   "execution_count": 3
  },
  {
   "cell_type": "code",
   "outputs": [],
   "source": [],
   "metadata": {
    "collapsed": false,
    "ExecuteTime": {
     "end_time": "2024-01-18T13:13:34.922526Z",
     "start_time": "2024-01-18T13:13:34.922128Z"
    }
   },
   "id": "c7d794be04188cb0",
   "execution_count": 4
  },
  {
   "cell_type": "code",
   "outputs": [],
   "source": [],
   "metadata": {
    "collapsed": false,
    "ExecuteTime": {
     "end_time": "2024-01-18T13:11:04.227763Z",
     "start_time": "2024-01-18T13:11:01.715272Z"
    }
   },
   "id": "cf0db7d31968afd8",
   "execution_count": 4
  }
 ],
 "metadata": {
  "kernelspec": {
   "display_name": "Python 3",
   "language": "python",
   "name": "python3"
  },
  "language_info": {
   "codemirror_mode": {
    "name": "ipython",
    "version": 2
   },
   "file_extension": ".py",
   "mimetype": "text/x-python",
   "name": "python",
   "nbconvert_exporter": "python",
   "pygments_lexer": "ipython2",
   "version": "2.7.6"
  }
 },
 "nbformat": 4,
 "nbformat_minor": 5
}
